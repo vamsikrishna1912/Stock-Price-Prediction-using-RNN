{
 "cells": [
  {
   "cell_type": "code",
   "execution_count": 293,
   "id": "8588490a",
   "metadata": {},
   "outputs": [],
   "source": [
    "import pandas as pd\n",
    "import numpy as np\n",
    "import matplotlib.pyplot as plt\n",
    "import tensorflow as tf\n",
    "\n",
    "np.random.seed(1)\n",
    "tf.random.set_seed(1)\n",
    "epoch_num = 50"
   ]
  },
  {
   "cell_type": "markdown",
   "id": "c1526890",
   "metadata": {},
   "source": [
    "## Collecting and preparing data for analysis\n"
   ]
  },
  {
   "cell_type": "code",
   "execution_count": 294,
   "id": "bc7772ab",
   "metadata": {},
   "outputs": [],
   "source": [
    "df = pd.read_csv('CTSH.csv',  parse_dates=True)"
   ]
  },
  {
   "cell_type": "code",
   "execution_count": 295,
   "id": "e046e272",
   "metadata": {},
   "outputs": [
    {
     "data": {
      "text/plain": [
       "Index(['Date', 'Open', 'High', 'Low', 'Close', 'Adj Close', 'Volume'], dtype='object')"
      ]
     },
     "execution_count": 295,
     "metadata": {},
     "output_type": "execute_result"
    }
   ],
   "source": [
    "df.columns"
   ]
  },
  {
   "cell_type": "code",
   "execution_count": 296,
   "id": "e6fc0fc9",
   "metadata": {},
   "outputs": [],
   "source": [
    "df = df[['Close']]"
   ]
  },
  {
   "cell_type": "code",
   "execution_count": 297,
   "id": "4b58bc45",
   "metadata": {},
   "outputs": [
    {
     "data": {
      "text/html": [
       "<div>\n",
       "<style scoped>\n",
       "    .dataframe tbody tr th:only-of-type {\n",
       "        vertical-align: middle;\n",
       "    }\n",
       "\n",
       "    .dataframe tbody tr th {\n",
       "        vertical-align: top;\n",
       "    }\n",
       "\n",
       "    .dataframe thead th {\n",
       "        text-align: right;\n",
       "    }\n",
       "</style>\n",
       "<table border=\"1\" class=\"dataframe\">\n",
       "  <thead>\n",
       "    <tr style=\"text-align: right;\">\n",
       "      <th></th>\n",
       "      <th>Close</th>\n",
       "    </tr>\n",
       "  </thead>\n",
       "  <tbody>\n",
       "    <tr>\n",
       "      <th>0</th>\n",
       "      <td>61.119999</td>\n",
       "    </tr>\n",
       "    <tr>\n",
       "      <th>1</th>\n",
       "      <td>60.250000</td>\n",
       "    </tr>\n",
       "    <tr>\n",
       "      <th>2</th>\n",
       "      <td>59.970001</td>\n",
       "    </tr>\n",
       "    <tr>\n",
       "      <th>3</th>\n",
       "      <td>59.490002</td>\n",
       "    </tr>\n",
       "    <tr>\n",
       "      <th>4</th>\n",
       "      <td>59.500000</td>\n",
       "    </tr>\n",
       "    <tr>\n",
       "      <th>...</th>\n",
       "      <td>...</td>\n",
       "    </tr>\n",
       "    <tr>\n",
       "      <th>248</th>\n",
       "      <td>69.260002</td>\n",
       "    </tr>\n",
       "    <tr>\n",
       "      <th>249</th>\n",
       "      <td>68.419998</td>\n",
       "    </tr>\n",
       "    <tr>\n",
       "      <th>250</th>\n",
       "      <td>67.930000</td>\n",
       "    </tr>\n",
       "    <tr>\n",
       "      <th>251</th>\n",
       "      <td>67.540001</td>\n",
       "    </tr>\n",
       "    <tr>\n",
       "      <th>252</th>\n",
       "      <td>67.154999</td>\n",
       "    </tr>\n",
       "  </tbody>\n",
       "</table>\n",
       "<p>253 rows × 1 columns</p>\n",
       "</div>"
      ],
      "text/plain": [
       "         Close\n",
       "0    61.119999\n",
       "1    60.250000\n",
       "2    59.970001\n",
       "3    59.490002\n",
       "4    59.500000\n",
       "..         ...\n",
       "248  69.260002\n",
       "249  68.419998\n",
       "250  67.930000\n",
       "251  67.540001\n",
       "252  67.154999\n",
       "\n",
       "[253 rows x 1 columns]"
      ]
     },
     "execution_count": 297,
     "metadata": {},
     "output_type": "execute_result"
    }
   ],
   "source": [
    "df"
   ]
  },
  {
   "cell_type": "code",
   "execution_count": 298,
   "id": "84f036c6",
   "metadata": {},
   "outputs": [
    {
     "data": {
      "text/plain": [
       "0"
      ]
     },
     "execution_count": 298,
     "metadata": {},
     "output_type": "execute_result"
    }
   ],
   "source": [
    "df['Close'].isna().sum()"
   ]
  },
  {
   "cell_type": "code",
   "execution_count": 299,
   "id": "93d17bdf",
   "metadata": {},
   "outputs": [
    {
     "data": {
      "text/plain": [
       "253"
      ]
     },
     "execution_count": 299,
     "metadata": {},
     "output_type": "execute_result"
    }
   ],
   "source": [
    "row_count = df.shape[0]\n",
    "row_count"
   ]
  },
  {
   "cell_type": "code",
   "execution_count": 300,
   "id": "6acdf684",
   "metadata": {},
   "outputs": [
    {
     "data": {
      "text/plain": [
       "(253, 1)"
      ]
     },
     "execution_count": 300,
     "metadata": {},
     "output_type": "execute_result"
    }
   ],
   "source": [
    "stocks = df.to_numpy() \n",
    "stocks.shape"
   ]
  },
  {
   "cell_type": "code",
   "execution_count": 301,
   "id": "49f983fd",
   "metadata": {},
   "outputs": [
    {
     "data": {
      "text/plain": [
       "array([[61.119999],\n",
       "       [60.25    ],\n",
       "       [59.970001],\n",
       "       [59.490002],\n",
       "       [59.5     ],\n",
       "       [58.459999],\n",
       "       [58.400002],\n",
       "       [59.209999],\n",
       "       [59.709999],\n",
       "       [59.84    ],\n",
       "       [59.380001],\n",
       "       [58.880001],\n",
       "       [62.860001],\n",
       "       [63.290001],\n",
       "       [61.639999],\n",
       "       [61.630001],\n",
       "       [62.560001],\n",
       "       [61.880001],\n",
       "       [61.66    ],\n",
       "       [62.759998],\n",
       "       [61.98    ],\n",
       "       [62.759998],\n",
       "       [63.619999],\n",
       "       [63.009998],\n",
       "       [64.010002],\n",
       "       [63.299999],\n",
       "       [62.610001],\n",
       "       [62.16    ],\n",
       "       [62.880001],\n",
       "       [62.450001],\n",
       "       [62.490002],\n",
       "       [62.189999],\n",
       "       [63.759998],\n",
       "       [61.299999],\n",
       "       [62.169998],\n",
       "       [62.599998],\n",
       "       [62.299999],\n",
       "       [62.049999],\n",
       "       [63.32    ],\n",
       "       [64.230003],\n",
       "       [63.709999],\n",
       "       [64.739998],\n",
       "       [65.080002],\n",
       "       [64.639999],\n",
       "       [63.18    ],\n",
       "       [62.599998],\n",
       "       [62.040001],\n",
       "       [62.459999],\n",
       "       [63.130001],\n",
       "       [63.369999],\n",
       "       [64.540001],\n",
       "       [65.279999],\n",
       "       [65.559998],\n",
       "       [65.529999],\n",
       "       [64.709999],\n",
       "       [65.339996],\n",
       "       [66.639999],\n",
       "       [67.18    ],\n",
       "       [67.169998],\n",
       "       [67.690002],\n",
       "       [68.599998],\n",
       "       [68.440002],\n",
       "       [69.169998],\n",
       "       [69.089996],\n",
       "       [66.760002],\n",
       "       [66.809998],\n",
       "       [67.449997],\n",
       "       [67.839996],\n",
       "       [67.760002],\n",
       "       [66.290001],\n",
       "       [65.760002],\n",
       "       [66.029999],\n",
       "       [65.849998],\n",
       "       [65.339996],\n",
       "       [70.470001],\n",
       "       [71.      ],\n",
       "       [71.330002],\n",
       "       [70.260002],\n",
       "       [69.940002],\n",
       "       [71.080002],\n",
       "       [70.080002],\n",
       "       [71.099998],\n",
       "       [69.379997],\n",
       "       [69.230003],\n",
       "       [69.080002],\n",
       "       [68.800003],\n",
       "       [68.760002],\n",
       "       [69.589996],\n",
       "       [70.459999],\n",
       "       [70.029999],\n",
       "       [70.059998],\n",
       "       [70.620003],\n",
       "       [71.400002],\n",
       "       [71.489998],\n",
       "       [71.610001],\n",
       "       [71.730003],\n",
       "       [70.970001],\n",
       "       [71.300003],\n",
       "       [71.25    ],\n",
       "       [71.339996],\n",
       "       [71.330002],\n",
       "       [70.129997],\n",
       "       [70.699997],\n",
       "       [70.970001],\n",
       "       [70.169998],\n",
       "       [70.220001],\n",
       "       [70.089996],\n",
       "       [69.510002],\n",
       "       [69.209999],\n",
       "       [69.610001],\n",
       "       [69.730003],\n",
       "       [68.639999],\n",
       "       [68.199997],\n",
       "       [67.839996],\n",
       "       [67.739998],\n",
       "       [67.760002],\n",
       "       [67.300003],\n",
       "       [67.540001],\n",
       "       [67.699997],\n",
       "       [67.839996],\n",
       "       [68.18    ],\n",
       "       [67.860001],\n",
       "       [68.339996],\n",
       "       [65.959999],\n",
       "       [65.779999],\n",
       "       [66.769997],\n",
       "       [67.169998],\n",
       "       [66.029999],\n",
       "       [65.440002],\n",
       "       [65.739998],\n",
       "       [65.019997],\n",
       "       [65.150002],\n",
       "       [64.089996],\n",
       "       [63.419998],\n",
       "       [63.299999],\n",
       "       [63.75    ],\n",
       "       [64.470001],\n",
       "       [64.959999],\n",
       "       [63.650002],\n",
       "       [66.269997],\n",
       "       [66.279999],\n",
       "       [65.769997],\n",
       "       [65.519997],\n",
       "       [64.650002],\n",
       "       [65.949997],\n",
       "       [65.68    ],\n",
       "       [67.379997],\n",
       "       [68.410004],\n",
       "       [68.480003],\n",
       "       [69.529999],\n",
       "       [69.800003],\n",
       "       [70.25    ],\n",
       "       [70.879997],\n",
       "       [71.169998],\n",
       "       [70.769997],\n",
       "       [71.300003],\n",
       "       [70.120003],\n",
       "       [70.379997],\n",
       "       [70.82    ],\n",
       "       [71.160004],\n",
       "       [70.129997],\n",
       "       [70.120003],\n",
       "       [70.419998],\n",
       "       [70.330002],\n",
       "       [71.68    ],\n",
       "       [72.050003],\n",
       "       [73.18    ],\n",
       "       [74.68    ],\n",
       "       [76.169998],\n",
       "       [75.900002],\n",
       "       [75.43    ],\n",
       "       [74.029999],\n",
       "       [74.160004],\n",
       "       [75.150002],\n",
       "       [75.470001],\n",
       "       [75.599998],\n",
       "       [75.839996],\n",
       "       [75.529999],\n",
       "       [74.400002],\n",
       "       [73.669998],\n",
       "       [73.589996],\n",
       "       [72.839996],\n",
       "       [73.690002],\n",
       "       [73.160004],\n",
       "       [73.349998],\n",
       "       [74.879997],\n",
       "       [77.970001],\n",
       "       [76.199997],\n",
       "       [75.699997],\n",
       "       [75.660004],\n",
       "       [76.879997],\n",
       "       [77.269997],\n",
       "       [77.110001],\n",
       "       [76.949997],\n",
       "       [78.300003],\n",
       "       [77.279999],\n",
       "       [77.870003],\n",
       "       [77.599998],\n",
       "       [77.120003],\n",
       "       [77.879997],\n",
       "       [77.889999],\n",
       "       [77.589996],\n",
       "       [78.730003],\n",
       "       [78.      ],\n",
       "       [78.300003],\n",
       "       [77.099998],\n",
       "       [76.529999],\n",
       "       [75.5     ],\n",
       "       [76.739998],\n",
       "       [78.019997],\n",
       "       [77.      ],\n",
       "       [76.739998],\n",
       "       [77.470001],\n",
       "       [79.459999],\n",
       "       [79.82    ],\n",
       "       [79.510002],\n",
       "       [79.139999],\n",
       "       [78.480003],\n",
       "       [79.019997],\n",
       "       [78.610001],\n",
       "       [79.080002],\n",
       "       [77.779999],\n",
       "       [76.690002],\n",
       "       [77.459999],\n",
       "       [76.769997],\n",
       "       [76.959999],\n",
       "       [77.089996],\n",
       "       [77.019997],\n",
       "       [76.349998],\n",
       "       [75.330002],\n",
       "       [75.089996],\n",
       "       [74.650002],\n",
       "       [75.150002],\n",
       "       [72.580002],\n",
       "       [71.900002],\n",
       "       [72.010002],\n",
       "       [72.400002],\n",
       "       [73.620003],\n",
       "       [73.290001],\n",
       "       [71.75    ],\n",
       "       [71.68    ],\n",
       "       [71.839996],\n",
       "       [71.610001],\n",
       "       [71.129997],\n",
       "       [71.059998],\n",
       "       [71.559998],\n",
       "       [69.970001],\n",
       "       [70.57    ],\n",
       "       [69.260002],\n",
       "       [68.419998],\n",
       "       [67.93    ],\n",
       "       [67.540001],\n",
       "       [67.154999]])"
      ]
     },
     "execution_count": 301,
     "metadata": {},
     "output_type": "execute_result"
    }
   ],
   "source": [
    "stocks"
   ]
  },
  {
   "cell_type": "markdown",
   "id": "26740fbc",
   "metadata": {},
   "source": [
    "creating a 'sliding window' of stocks data. In this case, I'm using 9 days to predict the 10th day closing stock price. "
   ]
  },
  {
   "cell_type": "code",
   "execution_count": 302,
   "id": "f5bba93a",
   "metadata": {},
   "outputs": [
    {
     "data": {
      "text/plain": [
       "253"
      ]
     },
     "execution_count": 302,
     "metadata": {},
     "output_type": "execute_result"
    }
   ],
   "source": [
    "sequence_length = 10\n",
    "\n",
    "# Calculate the number of days\n",
    "row_count = stocks.shape[0]\n",
    "row_count\n"
   ]
  },
  {
   "cell_type": "code",
   "execution_count": 303,
   "id": "49a98d48",
   "metadata": {},
   "outputs": [
    {
     "name": "stdout",
     "output_type": "stream",
     "text": [
      "Shape of stocks after reshaping: (25, 10)\n"
     ]
    }
   ],
   "source": [
    "# Ignore the first few days to make the total a number divisible by sequence length\n",
    "stocks = stocks[row_count % sequence_length:]\n",
    "\n",
    "# Reshape the data into rows of sequence length\n",
    "stocks = stocks.reshape(row_count // sequence_length, sequence_length)\n",
    "\n",
    "print(\"Shape of stocks after reshaping:\", stocks.shape)"
   ]
  },
  {
   "cell_type": "code",
   "execution_count": 304,
   "id": "60d1a341",
   "metadata": {},
   "outputs": [
    {
     "data": {
      "text/plain": [
       "array([[59.490002, 59.5     , 58.459999, 58.400002, 59.209999, 59.709999,\n",
       "        59.84    , 59.380001, 58.880001, 62.860001],\n",
       "       [63.290001, 61.639999, 61.630001, 62.560001, 61.880001, 61.66    ,\n",
       "        62.759998, 61.98    , 62.759998, 63.619999],\n",
       "       [63.009998, 64.010002, 63.299999, 62.610001, 62.16    , 62.880001,\n",
       "        62.450001, 62.490002, 62.189999, 63.759998],\n",
       "       [61.299999, 62.169998, 62.599998, 62.299999, 62.049999, 63.32    ,\n",
       "        64.230003, 63.709999, 64.739998, 65.080002],\n",
       "       [64.639999, 63.18    , 62.599998, 62.040001, 62.459999, 63.130001,\n",
       "        63.369999, 64.540001, 65.279999, 65.559998],\n",
       "       [65.529999, 64.709999, 65.339996, 66.639999, 67.18    , 67.169998,\n",
       "        67.690002, 68.599998, 68.440002, 69.169998],\n",
       "       [69.089996, 66.760002, 66.809998, 67.449997, 67.839996, 67.760002,\n",
       "        66.290001, 65.760002, 66.029999, 65.849998],\n",
       "       [65.339996, 70.470001, 71.      , 71.330002, 70.260002, 69.940002,\n",
       "        71.080002, 70.080002, 71.099998, 69.379997],\n",
       "       [69.230003, 69.080002, 68.800003, 68.760002, 69.589996, 70.459999,\n",
       "        70.029999, 70.059998, 70.620003, 71.400002],\n",
       "       [71.489998, 71.610001, 71.730003, 70.970001, 71.300003, 71.25    ,\n",
       "        71.339996, 71.330002, 70.129997, 70.699997],\n",
       "       [70.970001, 70.169998, 70.220001, 70.089996, 69.510002, 69.209999,\n",
       "        69.610001, 69.730003, 68.639999, 68.199997],\n",
       "       [67.839996, 67.739998, 67.760002, 67.300003, 67.540001, 67.699997,\n",
       "        67.839996, 68.18    , 67.860001, 68.339996],\n",
       "       [65.959999, 65.779999, 66.769997, 67.169998, 66.029999, 65.440002,\n",
       "        65.739998, 65.019997, 65.150002, 64.089996],\n",
       "       [63.419998, 63.299999, 63.75    , 64.470001, 64.959999, 63.650002,\n",
       "        66.269997, 66.279999, 65.769997, 65.519997],\n",
       "       [64.650002, 65.949997, 65.68    , 67.379997, 68.410004, 68.480003,\n",
       "        69.529999, 69.800003, 70.25    , 70.879997],\n",
       "       [71.169998, 70.769997, 71.300003, 70.120003, 70.379997, 70.82    ,\n",
       "        71.160004, 70.129997, 70.120003, 70.419998],\n",
       "       [70.330002, 71.68    , 72.050003, 73.18    , 74.68    , 76.169998,\n",
       "        75.900002, 75.43    , 74.029999, 74.160004],\n",
       "       [75.150002, 75.470001, 75.599998, 75.839996, 75.529999, 74.400002,\n",
       "        73.669998, 73.589996, 72.839996, 73.690002],\n",
       "       [73.160004, 73.349998, 74.879997, 77.970001, 76.199997, 75.699997,\n",
       "        75.660004, 76.879997, 77.269997, 77.110001],\n",
       "       [76.949997, 78.300003, 77.279999, 77.870003, 77.599998, 77.120003,\n",
       "        77.879997, 77.889999, 77.589996, 78.730003],\n",
       "       [78.      , 78.300003, 77.099998, 76.529999, 75.5     , 76.739998,\n",
       "        78.019997, 77.      , 76.739998, 77.470001],\n",
       "       [79.459999, 79.82    , 79.510002, 79.139999, 78.480003, 79.019997,\n",
       "        78.610001, 79.080002, 77.779999, 76.690002],\n",
       "       [77.459999, 76.769997, 76.959999, 77.089996, 77.019997, 76.349998,\n",
       "        75.330002, 75.089996, 74.650002, 75.150002],\n",
       "       [72.580002, 71.900002, 72.010002, 72.400002, 73.620003, 73.290001,\n",
       "        71.75    , 71.68    , 71.839996, 71.610001],\n",
       "       [71.129997, 71.059998, 71.559998, 69.970001, 70.57    , 69.260002,\n",
       "        68.419998, 67.93    , 67.540001, 67.154999]])"
      ]
     },
     "execution_count": 304,
     "metadata": {},
     "output_type": "execute_result"
    }
   ],
   "source": [
    "stocks"
   ]
  },
  {
   "cell_type": "code",
   "execution_count": 305,
   "id": "314da3c3",
   "metadata": {},
   "outputs": [],
   "source": [
    "# X will be the 9 days prior...\n",
    "X = stocks[:, :-1]\n",
    "# y will be the 10th day \n",
    "y = stocks[:, -1] "
   ]
  },
  {
   "cell_type": "markdown",
   "id": "3d55a83a",
   "metadata": {},
   "source": [
    "# train test data split"
   ]
  },
  {
   "cell_type": "code",
   "execution_count": 306,
   "id": "1f94caff",
   "metadata": {},
   "outputs": [],
   "source": [
    "from sklearn.model_selection import train_test_split\n",
    "\n",
    "X_train, X_test, y_train, y_test = train_test_split(X, y, test_size=0.3)"
   ]
  },
  {
   "cell_type": "code",
   "execution_count": 307,
   "id": "a24e36db",
   "metadata": {},
   "outputs": [
    {
     "name": "stdout",
     "output_type": "stream",
     "text": [
      "(17, 9, 1)\n",
      "(8, 9, 1)\n"
     ]
    }
   ],
   "source": [
    "X_train = np.reshape(X_train, (X_train.shape[0], X_train.shape[1], 1))\n",
    "X_test = np.reshape(X_test, (X_test.shape[0], X_test.shape[1], 1))\n",
    "\n",
    "print(X_train.shape)\n",
    "print(X_test.shape)"
   ]
  },
  {
   "cell_type": "markdown",
   "id": "6e427b79",
   "metadata": {},
   "source": [
    "## RNN"
   ]
  },
  {
   "cell_type": "code",
   "execution_count": 308,
   "id": "627a73c4",
   "metadata": {},
   "outputs": [
    {
     "name": "stderr",
     "output_type": "stream",
     "text": [
      "/Users/vamsimanuri/anaconda3/lib/python3.11/site-packages/keras/src/layers/rnn/rnn.py:204: UserWarning: Do not pass an `input_shape`/`input_dim` argument to a layer. When using Sequential models, prefer using an `Input(shape)` object as the first layer in the model instead.\n",
      "  super().__init__(**kwargs)\n"
     ]
    }
   ],
   "source": [
    "from tensorflow.keras import Sequential\n",
    "from tensorflow.keras.layers import Dense, LSTM, SimpleRNN, GRU, Conv1D\n",
    "\n",
    "model = keras.models.Sequential([\n",
    "    keras.layers.SimpleRNN(32, activation='relu', return_sequences=True, input_shape=[9, 1]),\n",
    "    keras.layers.SimpleRNN(32, activation='relu', return_sequences=False),\n",
    "    keras.layers.Dense(1, activation=None)\n",
    "])\n"
   ]
  },
  {
   "cell_type": "code",
   "execution_count": 309,
   "id": "8ccc8e59",
   "metadata": {},
   "outputs": [],
   "source": [
    "# If multiclass, use \"sparse_categorical_crossentropy\" as the loss function\n",
    "model.compile(\n",
    "    loss=\"mean_squared_error\", \n",
    "    optimizer=tf.keras.optimizers.Nadam(learning_rate=0.001), \n",
    "    metrics=[tf.keras.metrics.RootMeanSquaredError()]\n",
    ")"
   ]
  },
  {
   "cell_type": "code",
   "execution_count": 310,
   "id": "b8444204",
   "metadata": {},
   "outputs": [
    {
     "name": "stdout",
     "output_type": "stream",
     "text": [
      "Epoch 1/50\n",
      "\u001b[1m1/1\u001b[0m \u001b[32m━━━━━━━━━━━━━━━━━━━━\u001b[0m\u001b[37m\u001b[0m \u001b[1m2s\u001b[0m 2s/step - loss: 5289.1440 - root_mean_squared_error: 72.7265 - val_loss: 4962.9297 - val_root_mean_squared_error: 70.4481\n",
      "Epoch 2/50\n",
      "\u001b[1m1/1\u001b[0m \u001b[32m━━━━━━━━━━━━━━━━━━━━\u001b[0m\u001b[37m\u001b[0m \u001b[1m0s\u001b[0m 15ms/step - loss: 4555.4565 - root_mean_squared_error: 67.4941 - val_loss: 4476.3828 - val_root_mean_squared_error: 66.9058\n",
      "Epoch 3/50\n",
      "\u001b[1m1/1\u001b[0m \u001b[32m━━━━━━━━━━━━━━━━━━━━\u001b[0m\u001b[37m\u001b[0m \u001b[1m0s\u001b[0m 17ms/step - loss: 4108.7969 - root_mean_squared_error: 64.0999 - val_loss: 4060.5444 - val_root_mean_squared_error: 63.7224\n",
      "Epoch 4/50\n",
      "\u001b[1m1/1\u001b[0m \u001b[32m━━━━━━━━━━━━━━━━━━━━\u001b[0m\u001b[37m\u001b[0m \u001b[1m0s\u001b[0m 18ms/step - loss: 3727.3418 - root_mean_squared_error: 61.0520 - val_loss: 3692.1475 - val_root_mean_squared_error: 60.7630\n",
      "Epoch 5/50\n",
      "\u001b[1m1/1\u001b[0m \u001b[32m━━━━━━━━━━━━━━━━━━━━\u001b[0m\u001b[37m\u001b[0m \u001b[1m0s\u001b[0m 18ms/step - loss: 3383.9055 - root_mean_squared_error: 58.1713 - val_loss: 3331.0698 - val_root_mean_squared_error: 57.7154\n",
      "Epoch 6/50\n",
      "\u001b[1m1/1\u001b[0m \u001b[32m━━━━━━━━━━━━━━━━━━━━\u001b[0m\u001b[37m\u001b[0m \u001b[1m0s\u001b[0m 17ms/step - loss: 3059.2219 - root_mean_squared_error: 55.3102 - val_loss: 2952.0056 - val_root_mean_squared_error: 54.3324\n",
      "Epoch 7/50\n",
      "\u001b[1m1/1\u001b[0m \u001b[32m━━━━━━━━━━━━━━━━━━━━\u001b[0m\u001b[37m\u001b[0m \u001b[1m0s\u001b[0m 16ms/step - loss: 2713.7827 - root_mean_squared_error: 52.0940 - val_loss: 2590.6836 - val_root_mean_squared_error: 50.8988\n",
      "Epoch 8/50\n",
      "\u001b[1m1/1\u001b[0m \u001b[32m━━━━━━━━━━━━━━━━━━━━\u001b[0m\u001b[37m\u001b[0m \u001b[1m0s\u001b[0m 19ms/step - loss: 2383.9204 - root_mean_squared_error: 48.8254 - val_loss: 2272.6724 - val_root_mean_squared_error: 47.6726\n",
      "Epoch 9/50\n",
      "\u001b[1m1/1\u001b[0m \u001b[32m━━━━━━━━━━━━━━━━━━━━\u001b[0m\u001b[37m\u001b[0m \u001b[1m0s\u001b[0m 19ms/step - loss: 2096.0483 - root_mean_squared_error: 45.7826 - val_loss: 1959.6221 - val_root_mean_squared_error: 44.2676\n",
      "Epoch 10/50\n",
      "\u001b[1m1/1\u001b[0m \u001b[32m━━━━━━━━━━━━━━━━━━━━\u001b[0m\u001b[37m\u001b[0m \u001b[1m0s\u001b[0m 19ms/step - loss: 1800.2573 - root_mean_squared_error: 42.4294 - val_loss: 1665.6512 - val_root_mean_squared_error: 40.8124\n",
      "Epoch 11/50\n",
      "\u001b[1m1/1\u001b[0m \u001b[32m━━━━━━━━━━━━━━━━━━━━\u001b[0m\u001b[37m\u001b[0m \u001b[1m0s\u001b[0m 18ms/step - loss: 1537.4766 - root_mean_squared_error: 39.2107 - val_loss: 1362.5055 - val_root_mean_squared_error: 36.9121\n",
      "Epoch 12/50\n",
      "\u001b[1m1/1\u001b[0m \u001b[32m━━━━━━━━━━━━━━━━━━━━\u001b[0m\u001b[37m\u001b[0m \u001b[1m0s\u001b[0m 17ms/step - loss: 1259.3303 - root_mean_squared_error: 35.4870 - val_loss: 1087.8896 - val_root_mean_squared_error: 32.9832\n",
      "Epoch 13/50\n",
      "\u001b[1m1/1\u001b[0m \u001b[32m━━━━━━━━━━━━━━━━━━━━\u001b[0m\u001b[37m\u001b[0m \u001b[1m0s\u001b[0m 17ms/step - loss: 1005.9329 - root_mean_squared_error: 31.7164 - val_loss: 835.3327 - val_root_mean_squared_error: 28.9021\n",
      "Epoch 14/50\n",
      "\u001b[1m1/1\u001b[0m \u001b[32m━━━━━━━━━━━━━━━━━━━━\u001b[0m\u001b[37m\u001b[0m \u001b[1m0s\u001b[0m 19ms/step - loss: 773.2335 - root_mean_squared_error: 27.8071 - val_loss: 609.3499 - val_root_mean_squared_error: 24.6850\n",
      "Epoch 15/50\n",
      "\u001b[1m1/1\u001b[0m \u001b[32m━━━━━━━━━━━━━━━━━━━━\u001b[0m\u001b[37m\u001b[0m \u001b[1m0s\u001b[0m 18ms/step - loss: 564.8560 - root_mean_squared_error: 23.7667 - val_loss: 412.0029 - val_root_mean_squared_error: 20.2979\n",
      "Epoch 16/50\n",
      "\u001b[1m1/1\u001b[0m \u001b[32m━━━━━━━━━━━━━━━━━━━━\u001b[0m\u001b[37m\u001b[0m \u001b[1m0s\u001b[0m 18ms/step - loss: 381.8673 - root_mean_squared_error: 19.5414 - val_loss: 243.5912 - val_root_mean_squared_error: 15.6074\n",
      "Epoch 17/50\n",
      "\u001b[1m1/1\u001b[0m \u001b[32m━━━━━━━━━━━━━━━━━━━━\u001b[0m\u001b[37m\u001b[0m \u001b[1m0s\u001b[0m 17ms/step - loss: 225.2790 - root_mean_squared_error: 15.0093 - val_loss: 123.2045 - val_root_mean_squared_error: 11.0998\n",
      "Epoch 18/50\n",
      "\u001b[1m1/1\u001b[0m \u001b[32m━━━━━━━━━━━━━━━━━━━━\u001b[0m\u001b[37m\u001b[0m \u001b[1m0s\u001b[0m 18ms/step - loss: 114.1008 - root_mean_squared_error: 10.6818 - val_loss: 47.9240 - val_root_mean_squared_error: 6.9227\n",
      "Epoch 19/50\n",
      "\u001b[1m1/1\u001b[0m \u001b[32m━━━━━━━━━━━━━━━━━━━━\u001b[0m\u001b[37m\u001b[0m \u001b[1m0s\u001b[0m 18ms/step - loss: 44.1163 - root_mean_squared_error: 6.6420 - val_loss: 10.5108 - val_root_mean_squared_error: 3.2420\n",
      "Epoch 20/50\n",
      "\u001b[1m1/1\u001b[0m \u001b[32m━━━━━━━━━━━━━━━━━━━━\u001b[0m\u001b[37m\u001b[0m \u001b[1m0s\u001b[0m 19ms/step - loss: 8.9338 - root_mean_squared_error: 2.9890 - val_loss: 4.5043 - val_root_mean_squared_error: 2.1223\n",
      "Epoch 21/50\n",
      "\u001b[1m1/1\u001b[0m \u001b[32m━━━━━━━━━━━━━━━━━━━━\u001b[0m\u001b[37m\u001b[0m \u001b[1m0s\u001b[0m 17ms/step - loss: 3.1199 - root_mean_squared_error: 1.7663 - val_loss: 17.0177 - val_root_mean_squared_error: 4.1253\n",
      "Epoch 22/50\n",
      "\u001b[1m1/1\u001b[0m \u001b[32m━━━━━━━━━━━━━━━━━━━━\u001b[0m\u001b[37m\u001b[0m \u001b[1m0s\u001b[0m 19ms/step - loss: 14.7738 - root_mean_squared_error: 3.8437 - val_loss: 35.6090 - val_root_mean_squared_error: 5.9673\n",
      "Epoch 23/50\n",
      "\u001b[1m1/1\u001b[0m \u001b[32m━━━━━━━━━━━━━━━━━━━━\u001b[0m\u001b[37m\u001b[0m \u001b[1m0s\u001b[0m 17ms/step - loss: 32.0290 - root_mean_squared_error: 5.6594 - val_loss: 48.7205 - val_root_mean_squared_error: 6.9800\n",
      "Epoch 24/50\n",
      "\u001b[1m1/1\u001b[0m \u001b[32m━━━━━━━━━━━━━━━━━━━━\u001b[0m\u001b[37m\u001b[0m \u001b[1m0s\u001b[0m 17ms/step - loss: 44.0738 - root_mean_squared_error: 6.6388 - val_loss: 53.5884 - val_root_mean_squared_error: 7.3204\n",
      "Epoch 25/50\n",
      "\u001b[1m1/1\u001b[0m \u001b[32m━━━━━━━━━━━━━━━━━━━━\u001b[0m\u001b[37m\u001b[0m \u001b[1m0s\u001b[0m 18ms/step - loss: 48.4058 - root_mean_squared_error: 6.9574 - val_loss: 47.6973 - val_root_mean_squared_error: 6.9063\n",
      "Epoch 26/50\n",
      "\u001b[1m1/1\u001b[0m \u001b[32m━━━━━━━━━━━━━━━━━━━━\u001b[0m\u001b[37m\u001b[0m \u001b[1m0s\u001b[0m 18ms/step - loss: 43.1039 - root_mean_squared_error: 6.5654 - val_loss: 36.7807 - val_root_mean_squared_error: 6.0647\n",
      "Epoch 27/50\n",
      "\u001b[1m1/1\u001b[0m \u001b[32m━━━━━━━━━━━━━━━━━━━━\u001b[0m\u001b[37m\u001b[0m \u001b[1m0s\u001b[0m 17ms/step - loss: 32.9459 - root_mean_squared_error: 5.7399 - val_loss: 26.8073 - val_root_mean_squared_error: 5.1776\n",
      "Epoch 28/50\n",
      "\u001b[1m1/1\u001b[0m \u001b[32m━━━━━━━━━━━━━━━━━━━━\u001b[0m\u001b[37m\u001b[0m \u001b[1m0s\u001b[0m 19ms/step - loss: 23.8092 - root_mean_squared_error: 4.8795 - val_loss: 20.1127 - val_root_mean_squared_error: 4.4847\n",
      "Epoch 29/50\n",
      "\u001b[1m1/1\u001b[0m \u001b[32m━━━━━━━━━━━━━━━━━━━━\u001b[0m\u001b[37m\u001b[0m \u001b[1m0s\u001b[0m 17ms/step - loss: 17.7171 - root_mean_squared_error: 4.2092 - val_loss: 16.4958 - val_root_mean_squared_error: 4.0615\n",
      "Epoch 30/50\n",
      "\u001b[1m1/1\u001b[0m \u001b[32m━━━━━━━━━━━━━━━━━━━━\u001b[0m\u001b[37m\u001b[0m \u001b[1m0s\u001b[0m 18ms/step - loss: 14.4101 - root_mean_squared_error: 3.7961 - val_loss: 13.5222 - val_root_mean_squared_error: 3.6773\n",
      "Epoch 30: early stopping\n"
     ]
    }
   ],
   "source": [
    "from tensorflow.keras.callbacks import EarlyStopping\n",
    "\n",
    "import time\n",
    "start_time = time.time()\n",
    "\n",
    "early_stop = EarlyStopping(monitor='val_root_mean_squared_error', min_delta = 0.0, patience=10, verbose=1, mode='min')\n",
    "\n",
    "history = model.fit(\n",
    "    X_train, \n",
    "    y_train, \n",
    "    epochs=epoch_num,\n",
    "    validation_data=(X_test, y_test), \n",
    "    callbacks=[early_stop]\n",
    ")\n",
    "\n",
    "end_time = time.time()"
   ]
  },
  {
   "cell_type": "code",
   "execution_count": 311,
   "id": "2e226de7",
   "metadata": {},
   "outputs": [
    {
     "data": {
      "text/plain": [
       "<matplotlib.legend.Legend at 0x1781a0690>"
      ]
     },
     "execution_count": 311,
     "metadata": {},
     "output_type": "execute_result"
    },
    {
     "data": {
      "image/png": "[encoded data removed]",
      "text/plain": [
       "<Figure size 1500x700 with 2 Axes>"
      ]
     },
     "metadata": {},
     "output_type": "display_data"
    }
   ],
   "source": [
    "fig, (ax1, ax2) = plt.subplots(1, 2, figsize=(15, 7))\n",
    "fig.suptitle('RNN Model Evaluation')\n",
    "\n",
    "ax1.set_title('loss')\n",
    "#ax1.set_ylim(0, 100)\n",
    "ax1.plot(history.history['loss'])\n",
    "ax1.plot(history.history['val_loss'])\n",
    "ax1.legend(['train', 'test'], loc='upper left')\n",
    "\n",
    "ax2.set_title('RMSE')\n",
    "#ax2.set_ylim(0, 1)\n",
    "ax2.plot(history.history['root_mean_squared_error'])\n",
    "ax2.plot(history.history['val_root_mean_squared_error'])\n",
    "ax2.legend(['train', 'test'], loc='upper left')"
   ]
  },
  {
   "cell_type": "markdown",
   "id": "e2504d01",
   "metadata": {},
   "source": [
    "The sequential model consists of two SimpleRNN layers followed by a Dense layer. The model is trained using mean squared error as the loss function and Nadam optimizer with a learning rate of 0.001. Early stopping is implemented with a patience of 10 based on validation root mean squared error. The training history reveals a significant decrease in loss and root mean squared error over epochs, indicating effective learning. However, the initial loss is high, suggesting potential overfitting or the need for further tuning. Additionally, the root mean squared error decreases rapidly during the initial epochs but reaches a plateau, indicating diminishing returns in model improvement beyond a certain point. "
   ]
  },
  {
   "cell_type": "code",
   "execution_count": 188,
   "id": "51c45005",
   "metadata": {
    "scrolled": true
   },
   "outputs": [
    {
     "name": "stdout",
     "output_type": "stream",
     "text": [
      "\u001b[1m1/1\u001b[0m \u001b[32m━━━━━━━━━━━━━━━━━━━━\u001b[0m\u001b[37m\u001b[0m \u001b[1m0s\u001b[0m 68ms/step\n"
     ]
    },
    {
     "data": {
      "text/plain": [
       "array([[76.76128 ],\n",
       "       [72.92962 ],\n",
       "       [82.45015 ],\n",
       "       [70.969315],\n",
       "       [87.87252 ],\n",
       "       [77.62784 ],\n",
       "       [84.723175],\n",
       "       [86.66902 ]], dtype=float32)"
      ]
     },
     "execution_count": 188,
     "metadata": {},
     "output_type": "execute_result"
    }
   ],
   "source": [
    "y_pred = model.predict(X_test)  # these predictions are probabilities (0-1) taken from the sigmoid function\n",
    "y_pred"
   ]
  },
  {
   "cell_type": "code",
   "execution_count": 189,
   "id": "962f96f0",
   "metadata": {
    "scrolled": true
   },
   "outputs": [
    {
     "data": {
      "text/plain": [
       "8.1841116773043"
      ]
     },
     "execution_count": 189,
     "metadata": {},
     "output_type": "execute_result"
    }
   ],
   "source": [
    "from sklearn.metrics import mean_squared_error\n",
    "\n",
    "mean_squared_error(y_test, y_pred)**0.5"
   ]
  },
  {
   "cell_type": "code",
   "execution_count": 190,
   "id": "25ef74f8",
   "metadata": {},
   "outputs": [],
   "source": [
    "prior_days = np.array(\n",
    "    [71.059998, 71.559998, 69.970001, 70.57, 69.260002, 68.419998, 67.93, 67.540001,\n",
    "     67.050003]\n",
    ")\n",
    "\n",
    "# reshape into the three dimensions for input into model\n",
    "prior_days = prior_days.reshape(1, 9, 1) # 1 row, 9 time steps (features), and 1 output/prediction)"
   ]
  },
  {
   "cell_type": "code",
   "execution_count": 191,
   "id": "cd321d15",
   "metadata": {},
   "outputs": [
    {
     "name": "stdout",
     "output_type": "stream",
     "text": [
      "\u001b[1m1/1\u001b[0m \u001b[32m━━━━━━━━━━━━━━━━━━━━\u001b[0m\u001b[37m\u001b[0m \u001b[1m0s\u001b[0m 71ms/step\n"
     ]
    },
    {
     "data": {
      "text/plain": [
       "array([[76.26278]], dtype=float32)"
      ]
     },
     "execution_count": 191,
     "metadata": {},
     "output_type": "execute_result"
    }
   ],
   "source": [
    "model.predict(prior_days) "
   ]
  },
  {
   "cell_type": "code",
   "execution_count": 192,
   "id": "3bf5c967",
   "metadata": {},
   "outputs": [
    {
     "name": "stdout",
     "output_type": "stream",
     "text": [
      "\u001b[1m1/1\u001b[0m \u001b[32m━━━━━━━━━━━━━━━━━━━━\u001b[0m\u001b[37m\u001b[0m \u001b[1m0s\u001b[0m 8ms/step\n"
     ]
    }
   ],
   "source": [
    "tomorrows_stock = model.predict(prior_days)[0][0]"
   ]
  },
  {
   "cell_type": "code",
   "execution_count": 193,
   "id": "f52f7c02",
   "metadata": {
    "scrolled": true
   },
   "outputs": [
    {
     "name": "stdout",
     "output_type": "stream",
     "text": [
      "10th day's predicted closing stock is 76.26\n"
     ]
    }
   ],
   "source": [
    "print(f\"10th day's predicted closing stock is {tomorrows_stock:.2f}\")"
   ]
  },
  {
   "cell_type": "markdown",
   "id": "7b5da0c5",
   "metadata": {},
   "source": [
    "root mean squared error is approximately 8.18, indicating a moderate level of prediction error. Evaluating individual predictions, the model estimates future stock prices based on prior days' data, with the 10th day's predicted closing stock being approximately 76.26. "
   ]
  },
  {
   "cell_type": "markdown",
   "id": "cbcc0625",
   "metadata": {},
   "source": [
    "## LTSM"
   ]
  },
  {
   "cell_type": "code",
   "execution_count": 332,
   "id": "00096ee6",
   "metadata": {},
   "outputs": [],
   "source": [
    "\n",
    "# Define the LSTM model\n",
    "model = Sequential([\n",
    "    LSTM(32, activation='relu', return_sequences=True, input_shape=[9, 1]),\n",
    "    LSTM(32, activation='relu', return_sequences=False),\n",
    "    Dense(1, activation=None)\n",
    "])"
   ]
  },
  {
   "cell_type": "code",
   "execution_count": 333,
   "id": "913dead1",
   "metadata": {},
   "outputs": [],
   "source": [
    "# If multiclass, use \"sparse_categorical_crossentropy\" as the loss function\n",
    "model.compile(\n",
    "    loss=\"mean_squared_error\", \n",
    "    optimizer=tf.keras.optimizers.Nadam(learning_rate=0.001), \n",
    "    metrics=[tf.keras.metrics.RootMeanSquaredError()]\n",
    ")"
   ]
  },
  {
   "cell_type": "code",
   "execution_count": 334,
   "id": "b45bf45d",
   "metadata": {},
   "outputs": [
    {
     "name": "stdout",
     "output_type": "stream",
     "text": [
      "Epoch 1/50\n",
      "\u001b[1m1/1\u001b[0m \u001b[32m━━━━━━━━━━━━━━━━━━━━\u001b[0m\u001b[37m\u001b[0m \u001b[1m1s\u001b[0m 1s/step - loss: 4924.2803 - root_mean_squared_error: 70.1732 - val_loss: 5248.8735 - val_root_mean_squared_error: 72.4491\n",
      "Epoch 2/50\n",
      "\u001b[1m1/1\u001b[0m \u001b[32m━━━━━━━━━━━━━━━━━━━━\u001b[0m\u001b[37m\u001b[0m \u001b[1m0s\u001b[0m 19ms/step - loss: 4816.9014 - root_mean_squared_error: 69.4039 - val_loss: 5178.8076 - val_root_mean_squared_error: 71.9639\n",
      "Epoch 3/50\n",
      "\u001b[1m1/1\u001b[0m \u001b[32m━━━━━━━━━━━━━━━━━━━━\u001b[0m\u001b[37m\u001b[0m \u001b[1m0s\u001b[0m 24ms/step - loss: 4753.8755 - root_mean_squared_error: 68.9484 - val_loss: 5120.8604 - val_root_mean_squared_error: 71.5602\n",
      "Epoch 4/50\n",
      "\u001b[1m1/1\u001b[0m \u001b[32m━━━━━━━━━━━━━━━━━━━━\u001b[0m\u001b[37m\u001b[0m \u001b[1m0s\u001b[0m 23ms/step - loss: 4702.9795 - root_mean_squared_error: 68.5783 - val_loss: 5062.1729 - val_root_mean_squared_error: 71.1489\n",
      "Epoch 5/50\n",
      "\u001b[1m1/1\u001b[0m \u001b[32m━━━━━━━━━━━━━━━━━━━━\u001b[0m\u001b[37m\u001b[0m \u001b[1m0s\u001b[0m 23ms/step - loss: 4653.9424 - root_mean_squared_error: 68.2198 - val_loss: 4993.0264 - val_root_mean_squared_error: 70.6613\n",
      "Epoch 6/50\n",
      "\u001b[1m1/1\u001b[0m \u001b[32m━━━━━━━━━━━━━━━━━━━━\u001b[0m\u001b[37m\u001b[0m \u001b[1m0s\u001b[0m 24ms/step - loss: 4600.0669 - root_mean_squared_error: 67.8238 - val_loss: 4902.6484 - val_root_mean_squared_error: 70.0189\n",
      "Epoch 7/50\n",
      "\u001b[1m1/1\u001b[0m \u001b[32m━━━━━━━━━━━━━━━━━━━━\u001b[0m\u001b[37m\u001b[0m \u001b[1m0s\u001b[0m 22ms/step - loss: 4532.2622 - root_mean_squared_error: 67.3221 - val_loss: 4788.6270 - val_root_mean_squared_error: 69.1999\n",
      "Epoch 8/50\n",
      "\u001b[1m1/1\u001b[0m \u001b[32m━━━━━━━━━━━━━━━━━━━━\u001b[0m\u001b[37m\u001b[0m \u001b[1m0s\u001b[0m 20ms/step - loss: 4438.8633 - root_mean_squared_error: 66.6248 - val_loss: 4660.3105 - val_root_mean_squared_error: 68.2665\n",
      "Epoch 9/50\n",
      "\u001b[1m1/1\u001b[0m \u001b[32m━━━━━━━━━━━━━━━━━━━━\u001b[0m\u001b[37m\u001b[0m \u001b[1m0s\u001b[0m 20ms/step - loss: 4314.7920 - root_mean_squared_error: 65.6871 - val_loss: 4513.0449 - val_root_mean_squared_error: 67.1792\n",
      "Epoch 10/50\n",
      "\u001b[1m1/1\u001b[0m \u001b[32m━━━━━━━━━━━━━━━━━━━━\u001b[0m\u001b[37m\u001b[0m \u001b[1m0s\u001b[0m 21ms/step - loss: 4168.1411 - root_mean_squared_error: 64.5611 - val_loss: 4344.6167 - val_root_mean_squared_error: 65.9137\n",
      "Epoch 11/50\n",
      "\u001b[1m1/1\u001b[0m \u001b[32m━━━━━━━━━━━━━━━━━━━━\u001b[0m\u001b[37m\u001b[0m \u001b[1m0s\u001b[0m 18ms/step - loss: 4006.3650 - root_mean_squared_error: 63.2959 - val_loss: 4159.9150 - val_root_mean_squared_error: 64.4974\n",
      "Epoch 12/50\n",
      "\u001b[1m1/1\u001b[0m \u001b[32m━━━━━━━━━━━━━━━━━━━━\u001b[0m\u001b[37m\u001b[0m \u001b[1m0s\u001b[0m 20ms/step - loss: 3839.7412 - root_mean_squared_error: 61.9656 - val_loss: 3994.3247 - val_root_mean_squared_error: 63.2007\n",
      "Epoch 13/50\n",
      "\u001b[1m1/1\u001b[0m \u001b[32m━━━━━━━━━━━━━━━━━━━━\u001b[0m\u001b[37m\u001b[0m \u001b[1m0s\u001b[0m 19ms/step - loss: 3682.3105 - root_mean_squared_error: 60.6820 - val_loss: 3801.4585 - val_root_mean_squared_error: 61.6560\n",
      "Epoch 14/50\n",
      "\u001b[1m1/1\u001b[0m \u001b[32m━━━━━━━━━━━━━━━━━━━━\u001b[0m\u001b[37m\u001b[0m \u001b[1m0s\u001b[0m 19ms/step - loss: 3491.4365 - root_mean_squared_error: 59.0884 - val_loss: 3555.7961 - val_root_mean_squared_error: 59.6305\n",
      "Epoch 15/50\n",
      "\u001b[1m1/1\u001b[0m \u001b[32m━━━━━━━━━━━━━━━━━━━━\u001b[0m\u001b[37m\u001b[0m \u001b[1m0s\u001b[0m 20ms/step - loss: 3222.3262 - root_mean_squared_error: 56.7655 - val_loss: 3162.3184 - val_root_mean_squared_error: 56.2345\n",
      "Epoch 16/50\n",
      "\u001b[1m1/1\u001b[0m \u001b[32m━━━━━━━━━━━━━━━━━━━━\u001b[0m\u001b[37m\u001b[0m \u001b[1m0s\u001b[0m 18ms/step - loss: 2792.3818 - root_mean_squared_error: 52.8430 - val_loss: 2536.4983 - val_root_mean_squared_error: 50.3637\n",
      "Epoch 17/50\n",
      "\u001b[1m1/1\u001b[0m \u001b[32m━━━━━━━━━━━━━━━━━━━━\u001b[0m\u001b[37m\u001b[0m \u001b[1m0s\u001b[0m 18ms/step - loss: 2281.4277 - root_mean_squared_error: 47.7643 - val_loss: 1984.1272 - val_root_mean_squared_error: 44.5435\n",
      "Epoch 18/50\n",
      "\u001b[1m1/1\u001b[0m \u001b[32m━━━━━━━━━━━━━━━━━━━━\u001b[0m\u001b[37m\u001b[0m \u001b[1m0s\u001b[0m 20ms/step - loss: 1765.9442 - root_mean_squared_error: 42.0231 - val_loss: 1826.4641 - val_root_mean_squared_error: 42.7372\n",
      "Epoch 19/50\n",
      "\u001b[1m1/1\u001b[0m \u001b[32m━━━━━━━━━━━━━━━━━━━━\u001b[0m\u001b[37m\u001b[0m \u001b[1m0s\u001b[0m 17ms/step - loss: 1541.7042 - root_mean_squared_error: 39.2645 - val_loss: 1108.5999 - val_root_mean_squared_error: 33.2956\n",
      "Epoch 20/50\n",
      "\u001b[1m1/1\u001b[0m \u001b[32m━━━━━━━━━━━━━━━━━━━━\u001b[0m\u001b[37m\u001b[0m \u001b[1m0s\u001b[0m 17ms/step - loss: 997.8939 - root_mean_squared_error: 31.5895 - val_loss: 803.8571 - val_root_mean_squared_error: 28.3524\n",
      "Epoch 21/50\n",
      "\u001b[1m1/1\u001b[0m \u001b[32m━━━━━━━━━━━━━━━━━━━━\u001b[0m\u001b[37m\u001b[0m \u001b[1m0s\u001b[0m 19ms/step - loss: 705.4029 - root_mean_squared_error: 26.5594 - val_loss: 542.0410 - val_root_mean_squared_error: 23.2818\n",
      "Epoch 22/50\n",
      "\u001b[1m1/1\u001b[0m \u001b[32m━━━━━━━━━━━━━━━━━━━━\u001b[0m\u001b[37m\u001b[0m \u001b[1m0s\u001b[0m 18ms/step - loss: 473.9012 - root_mean_squared_error: 21.7693 - val_loss: 334.1255 - val_root_mean_squared_error: 18.2791\n",
      "Epoch 23/50\n",
      "\u001b[1m1/1\u001b[0m \u001b[32m━━━━━━━━━━━━━━━━━━━━\u001b[0m\u001b[37m\u001b[0m \u001b[1m0s\u001b[0m 18ms/step - loss: 293.3990 - root_mean_squared_error: 17.1289 - val_loss: 181.0067 - val_root_mean_squared_error: 13.4539\n",
      "Epoch 24/50\n",
      "\u001b[1m1/1\u001b[0m \u001b[32m━━━━━━━━━━━━━━━━━━━━\u001b[0m\u001b[37m\u001b[0m \u001b[1m0s\u001b[0m 19ms/step - loss: 159.7610 - root_mean_squared_error: 12.6397 - val_loss: 78.8038 - val_root_mean_squared_error: 8.8772\n",
      "Epoch 25/50\n",
      "\u001b[1m1/1\u001b[0m \u001b[32m━━━━━━━━━━━━━━━━━━━━\u001b[0m\u001b[37m\u001b[0m \u001b[1m0s\u001b[0m 21ms/step - loss: 69.0711 - root_mean_squared_error: 8.3109 - val_loss: 22.6521 - val_root_mean_squared_error: 4.7594\n",
      "Epoch 26/50\n",
      "\u001b[1m1/1\u001b[0m \u001b[32m━━━━━━━━━━━━━━━━━━━━\u001b[0m\u001b[37m\u001b[0m \u001b[1m0s\u001b[0m 19ms/step - loss: 18.0997 - root_mean_squared_error: 4.2544 - val_loss: 5.5851 - val_root_mean_squared_error: 2.3633\n",
      "Epoch 27/50\n",
      "\u001b[1m1/1\u001b[0m \u001b[32m━━━━━━━━━━━━━━━━━━━━\u001b[0m\u001b[37m\u001b[0m \u001b[1m0s\u001b[0m 19ms/step - loss: 4.5880 - root_mean_squared_error: 2.1420 - val_loss: 18.5865 - val_root_mean_squared_error: 4.3112\n",
      "Epoch 28/50\n",
      "\u001b[1m1/1\u001b[0m \u001b[32m━━━━━━━━━━━━━━━━━━━━\u001b[0m\u001b[37m\u001b[0m \u001b[1m0s\u001b[0m 18ms/step - loss: 18.7997 - root_mean_squared_error: 4.3359 - val_loss: 34.2431 - val_root_mean_squared_error: 5.8518\n",
      "Epoch 29/50\n",
      "\u001b[1m1/1\u001b[0m \u001b[32m━━━━━━━━━━━━━━━━━━━━\u001b[0m\u001b[37m\u001b[0m \u001b[1m0s\u001b[0m 19ms/step - loss: 32.0348 - root_mean_squared_error: 5.6599 - val_loss: 45.4886 - val_root_mean_squared_error: 6.7445\n",
      "Epoch 30/50\n",
      "\u001b[1m1/1\u001b[0m \u001b[32m━━━━━━━━━━━━━━━━━━━━\u001b[0m\u001b[37m\u001b[0m \u001b[1m0s\u001b[0m 19ms/step - loss: 40.9103 - root_mean_squared_error: 6.3961 - val_loss: 49.2860 - val_root_mean_squared_error: 7.0204\n",
      "Epoch 31/50\n",
      "\u001b[1m1/1\u001b[0m \u001b[32m━━━━━━━━━━━━━━━━━━━━\u001b[0m\u001b[37m\u001b[0m \u001b[1m0s\u001b[0m 19ms/step - loss: 43.4353 - root_mean_squared_error: 6.5905 - val_loss: 44.4791 - val_root_mean_squared_error: 6.6693\n",
      "Epoch 32/50\n",
      "\u001b[1m1/1\u001b[0m \u001b[32m━━━━━━━━━━━━━━━━━━━━\u001b[0m\u001b[37m\u001b[0m \u001b[1m0s\u001b[0m 18ms/step - loss: 38.7421 - root_mean_squared_error: 6.2243 - val_loss: 31.3478 - val_root_mean_squared_error: 5.5989\n",
      "Epoch 33/50\n",
      "\u001b[1m1/1\u001b[0m \u001b[32m━━━━━━━━━━━━━━━━━━━━\u001b[0m\u001b[37m\u001b[0m \u001b[1m0s\u001b[0m 17ms/step - loss: 28.7324 - root_mean_squared_error: 5.3603 - val_loss: 70.5315 - val_root_mean_squared_error: 8.3983\n",
      "Epoch 34/50\n",
      "\u001b[1m1/1\u001b[0m \u001b[32m━━━━━━━━━━━━━━━━━━━━\u001b[0m\u001b[37m\u001b[0m \u001b[1m0s\u001b[0m 18ms/step - loss: 13.3682 - root_mean_squared_error: 3.6563 - val_loss: 112.3073 - val_root_mean_squared_error: 10.5975\n",
      "Epoch 35/50\n",
      "\u001b[1m1/1\u001b[0m \u001b[32m━━━━━━━━━━━━━━━━━━━━\u001b[0m\u001b[37m\u001b[0m \u001b[1m0s\u001b[0m 18ms/step - loss: 184.6733 - root_mean_squared_error: 13.5895 - val_loss: 145.6892 - val_root_mean_squared_error: 12.0702\n",
      "Epoch 36/50\n",
      "\u001b[1m1/1\u001b[0m \u001b[32m━━━━━━━━━━━━━━━━━━━━\u001b[0m\u001b[37m\u001b[0m \u001b[1m0s\u001b[0m 18ms/step - loss: 82.4608 - root_mean_squared_error: 9.0808 - val_loss: 83.6054 - val_root_mean_squared_error: 9.1436\n",
      "Epoch 36: early stopping\n"
     ]
    }
   ],
   "source": [
    "from tensorflow.keras.callbacks import EarlyStopping\n",
    "\n",
    "import time\n",
    "start_time = time.time()\n",
    "\n",
    "early_stop = EarlyStopping(monitor='val_root_mean_squared_error', min_delta = 0.0, patience=10, verbose=1, mode='min')\n",
    "\n",
    "history = model.fit(\n",
    "    X_train, \n",
    "    y_train, \n",
    "    epochs=epoch_num,\n",
    "    validation_data=(X_test, y_test), \n",
    "    callbacks=[early_stop]\n",
    ")\n",
    "\n",
    "end_time = time.time()"
   ]
  },
  {
   "cell_type": "code",
   "execution_count": 335,
   "id": "8bf938de",
   "metadata": {},
   "outputs": [
    {
     "data": {
      "text/plain": [
       "<matplotlib.legend.Legend at 0x174dcc310>"
      ]
     },
     "execution_count": 335,
     "metadata": {},
     "output_type": "execute_result"
    },
    {
     "data": {
      "image/png": "[encoded data removed]",
      "text/plain": [
       "<Figure size 1500x700 with 2 Axes>"
      ]
     },
     "metadata": {},
     "output_type": "display_data"
    }
   ],
   "source": [
    "fig, (ax1, ax2) = plt.subplots(1, 2, figsize=(15, 7))\n",
    "fig.suptitle('LTSM Model Evaluation')\n",
    "\n",
    "ax1.set_title('loss')\n",
    "#ax1.set_ylim(0, 100)\n",
    "ax1.plot(history.history['loss'])\n",
    "ax1.plot(history.history['val_loss'])\n",
    "ax1.legend(['train', 'test'], loc='upper left')\n",
    "\n",
    "ax2.set_title('RMSE')\n",
    "#ax2.set_ylim(0, 1)\n",
    "ax2.plot(history.history['root_mean_squared_error'])\n",
    "ax2.plot(history.history['val_root_mean_squared_error'])\n",
    "ax2.legend(['train', 'test'], loc='upper left')"
   ]
  },
  {
   "cell_type": "markdown",
   "id": "6a95c5c3",
   "metadata": {},
   "source": [
    "The LSTM model exhibits a training loss that gradually decreases over epochs, reaching a relatively low value, while the validation loss decreases initially but then stabilizes. This stabilization suggests that the model's performance may have plateaued, indicating a potential need for further model refinement or adjustment of hyperparameters to prevent overfitting. The root mean squared error (RMSE) similarly decreases over epochs for both training and validation sets, indicating an improvement in the model's predictive performance. However, the RMSE values are relatively high, suggesting that the model's predictions still have notable deviations from the actual values."
   ]
  },
  {
   "cell_type": "code",
   "execution_count": 285,
   "id": "a099f7e1",
   "metadata": {},
   "outputs": [
    {
     "name": "stdout",
     "output_type": "stream",
     "text": [
      "\u001b[1m1/1\u001b[0m \u001b[32m━━━━━━━━━━━━━━━━━━━━\u001b[0m\u001b[37m\u001b[0m \u001b[1m0s\u001b[0m 95ms/step\n"
     ]
    },
    {
     "data": {
      "text/plain": [
       "array([[70.56303],\n",
       "       [67.73847],\n",
       "       [73.90232],\n",
       "       [65.45146],\n",
       "       [77.01382],\n",
       "       [70.06069],\n",
       "       [73.7282 ],\n",
       "       [75.7692 ]], dtype=float32)"
      ]
     },
     "execution_count": 285,
     "metadata": {},
     "output_type": "execute_result"
    }
   ],
   "source": [
    "#Predict:\n",
    "y_pred = model.predict(X_test)\n",
    "y_pred"
   ]
  },
  {
   "cell_type": "code",
   "execution_count": 286,
   "id": "27aa485d",
   "metadata": {},
   "outputs": [
    {
     "data": {
      "text/plain": [
       "1.9031256874413367"
      ]
     },
     "execution_count": 286,
     "metadata": {},
     "output_type": "execute_result"
    }
   ],
   "source": [
    "from sklearn.metrics import mean_squared_error\n",
    "\n",
    "mean_squared_error(y_test, y_pred)**0.5"
   ]
  },
  {
   "cell_type": "code",
   "execution_count": 287,
   "id": "df1ee551",
   "metadata": {},
   "outputs": [],
   "source": [
    "prior_days = np.array(\n",
    "    [71.059998, 71.559998, 69.970001, 70.57, 69.260002, 68.419998, 67.93, 67.540001,\n",
    "     67.050003]\n",
    ")\n",
    "\n",
    "# reshape into the three dimensions for input into model\n",
    "prior_days = prior_days.reshape(1, 9, 1) # 1 row, 9 time steps (features), and 1 output/prediction)"
   ]
  },
  {
   "cell_type": "code",
   "execution_count": 288,
   "id": "87accbe8",
   "metadata": {},
   "outputs": [
    {
     "name": "stdout",
     "output_type": "stream",
     "text": [
      "\u001b[1m1/1\u001b[0m \u001b[32m━━━━━━━━━━━━━━━━━━━━\u001b[0m\u001b[37m\u001b[0m \u001b[1m0s\u001b[0m 92ms/step\n"
     ]
    },
    {
     "data": {
      "text/plain": [
       "array([[70.17942]], dtype=float32)"
      ]
     },
     "execution_count": 288,
     "metadata": {},
     "output_type": "execute_result"
    }
   ],
   "source": [
    "model.predict(prior_days) "
   ]
  },
  {
   "cell_type": "code",
   "execution_count": 289,
   "id": "6531362c",
   "metadata": {},
   "outputs": [
    {
     "name": "stdout",
     "output_type": "stream",
     "text": [
      "\u001b[1m1/1\u001b[0m \u001b[32m━━━━━━━━━━━━━━━━━━━━\u001b[0m\u001b[37m\u001b[0m \u001b[1m0s\u001b[0m 10ms/step\n"
     ]
    }
   ],
   "source": [
    "tomorrows_stock = model.predict(prior_days)[0][0]"
   ]
  },
  {
   "cell_type": "code",
   "execution_count": 290,
   "id": "cf9b7bcd",
   "metadata": {
    "scrolled": true
   },
   "outputs": [
    {
     "name": "stdout",
     "output_type": "stream",
     "text": [
      "10th day's predicted closing stock is 70.18\n"
     ]
    }
   ],
   "source": [
    "print(f\"10th day's predicted closing stock is {tomorrows_stock:.2f}\")"
   ]
  },
  {
   "cell_type": "markdown",
   "id": "2fadf1d4",
   "metadata": {},
   "source": [
    "\n",
    "The model's predictions, represented by y_pred, demonstrate a close alignment with the actual stock prices, as evidenced by the low mean squared error of approximately 1.90. These predictions span a reasonable range and exhibit consistency with the underlying trends in the data. Additionally, when provided with prior days' data for prediction, the model forecasts the next day's closing stock price with a prediction of approximately 70.18, further indicating its ability to capture temporal patterns effectively. The low error value suggests that the model has learned well from the training data and generalizes effectively to unseen instances. Overall, the model's performance appears robust, demonstrating its utility for accurate prediction of stock prices based on historical data."
   ]
  },
  {
   "cell_type": "markdown",
   "id": "6da14960",
   "metadata": {},
   "source": [
    "## GRU"
   ]
  },
  {
   "cell_type": "code",
   "execution_count": 320,
   "id": "5875726d",
   "metadata": {},
   "outputs": [],
   "source": [
    "model = keras.models.Sequential([\n",
    "    keras.layers.GRU(32, activation='relu', return_sequences=True, input_shape=[23, 1]),\n",
    "    keras.layers.GRU(32, activation='relu', return_sequences=False),\n",
    "    keras.layers.Dense(1, activation=None)\n",
    "])"
   ]
  },
  {
   "cell_type": "code",
   "execution_count": 321,
   "id": "93de8f2e",
   "metadata": {},
   "outputs": [],
   "source": [
    "\n",
    "model.compile(\n",
    "    loss=\"mean_squared_error\", \n",
    "    optimizer=tf.keras.optimizers.Nadam(learning_rate=0.001), \n",
    "    metrics=[tf.keras.metrics.RootMeanSquaredError()]\n",
    ")"
   ]
  },
  {
   "cell_type": "code",
   "execution_count": 322,
   "id": "fdfe05d2",
   "metadata": {},
   "outputs": [
    {
     "name": "stdout",
     "output_type": "stream",
     "text": [
      "Epoch 1/50\n",
      "\u001b[1m1/1\u001b[0m \u001b[32m━━━━━━━━━━━━━━━━━━━━\u001b[0m\u001b[37m\u001b[0m \u001b[1m1s\u001b[0m 1s/step - loss: 3987.8218 - root_mean_squared_error: 63.1492 - val_loss: 4274.1836 - val_root_mean_squared_error: 65.3772\n",
      "Epoch 2/50\n",
      "\u001b[1m1/1\u001b[0m \u001b[32m━━━━━━━━━━━━━━━━━━━━\u001b[0m\u001b[37m\u001b[0m \u001b[1m0s\u001b[0m 20ms/step - loss: 3913.8806 - root_mean_squared_error: 62.5610 - val_loss: 4215.9238 - val_root_mean_squared_error: 64.9301\n",
      "Epoch 3/50\n",
      "\u001b[1m1/1\u001b[0m \u001b[32m━━━━━━━━━━━━━━━━━━━━\u001b[0m\u001b[37m\u001b[0m \u001b[1m0s\u001b[0m 22ms/step - loss: 3859.6113 - root_mean_squared_error: 62.1258 - val_loss: 4163.3184 - val_root_mean_squared_error: 64.5238\n",
      "Epoch 4/50\n",
      "\u001b[1m1/1\u001b[0m \u001b[32m━━━━━━━━━━━━━━━━━━━━\u001b[0m\u001b[37m\u001b[0m \u001b[1m0s\u001b[0m 19ms/step - loss: 3810.9485 - root_mean_squared_error: 61.7329 - val_loss: 4110.4922 - val_root_mean_squared_error: 64.1131\n",
      "Epoch 5/50\n",
      "\u001b[1m1/1\u001b[0m \u001b[32m━━━━━━━━━━━━━━━━━━━━\u001b[0m\u001b[37m\u001b[0m \u001b[1m0s\u001b[0m 21ms/step - loss: 3762.1560 - root_mean_squared_error: 61.3364 - val_loss: 4054.4341 - val_root_mean_squared_error: 63.6744\n",
      "Epoch 6/50\n",
      "\u001b[1m1/1\u001b[0m \u001b[32m━━━━━━━━━━━━━━━━━━━━\u001b[0m\u001b[37m\u001b[0m \u001b[1m0s\u001b[0m 19ms/step - loss: 3710.6692 - root_mean_squared_error: 60.9153 - val_loss: 3995.1138 - val_root_mean_squared_error: 63.2069\n",
      "Epoch 7/50\n",
      "\u001b[1m1/1\u001b[0m \u001b[32m━━━━━━━━━━━━━━━━━━━━\u001b[0m\u001b[37m\u001b[0m \u001b[1m0s\u001b[0m 20ms/step - loss: 3655.9473 - root_mean_squared_error: 60.4644 - val_loss: 3932.9814 - val_root_mean_squared_error: 62.7135\n",
      "Epoch 8/50\n",
      "\u001b[1m1/1\u001b[0m \u001b[32m━━━━━━━━━━━━━━━━━━━━\u001b[0m\u001b[37m\u001b[0m \u001b[1m0s\u001b[0m 19ms/step - loss: 3598.5764 - root_mean_squared_error: 59.9881 - val_loss: 3867.4751 - val_root_mean_squared_error: 62.1890\n",
      "Epoch 9/50\n",
      "\u001b[1m1/1\u001b[0m \u001b[32m━━━━━━━━━━━━━━━━━━━━\u001b[0m\u001b[37m\u001b[0m \u001b[1m0s\u001b[0m 20ms/step - loss: 3538.0371 - root_mean_squared_error: 59.4814 - val_loss: 3798.2183 - val_root_mean_squared_error: 61.6297\n",
      "Epoch 10/50\n",
      "\u001b[1m1/1\u001b[0m \u001b[32m━━━━━━━━━━━━━━━━━━━━\u001b[0m\u001b[37m\u001b[0m \u001b[1m0s\u001b[0m 20ms/step - loss: 3473.9558 - root_mean_squared_error: 58.9403 - val_loss: 3724.9097 - val_root_mean_squared_error: 61.0320\n",
      "Epoch 11/50\n",
      "\u001b[1m1/1\u001b[0m \u001b[32m━━━━━━━━━━━━━━━━━━━━\u001b[0m\u001b[37m\u001b[0m \u001b[1m0s\u001b[0m 22ms/step - loss: 3406.0588 - root_mean_squared_error: 58.3615 - val_loss: 3647.2842 - val_root_mean_squared_error: 60.3927\n",
      "Epoch 12/50\n",
      "\u001b[1m1/1\u001b[0m \u001b[32m━━━━━━━━━━━━━━━━━━━━\u001b[0m\u001b[37m\u001b[0m \u001b[1m0s\u001b[0m 20ms/step - loss: 3334.1204 - root_mean_squared_error: 57.7418 - val_loss: 3565.0112 - val_root_mean_squared_error: 59.7077\n",
      "Epoch 13/50\n",
      "\u001b[1m1/1\u001b[0m \u001b[32m━━━━━━━━━━━━━━━━━━━━\u001b[0m\u001b[37m\u001b[0m \u001b[1m0s\u001b[0m 20ms/step - loss: 3257.8721 - root_mean_squared_error: 57.0778 - val_loss: 3477.7214 - val_root_mean_squared_error: 58.9722\n",
      "Epoch 14/50\n",
      "\u001b[1m1/1\u001b[0m \u001b[32m━━━━━━━━━━━━━━━━━━━━\u001b[0m\u001b[37m\u001b[0m \u001b[1m0s\u001b[0m 19ms/step - loss: 3177.0186 - root_mean_squared_error: 56.3650 - val_loss: 3384.9138 - val_root_mean_squared_error: 58.1800\n",
      "Epoch 15/50\n",
      "\u001b[1m1/1\u001b[0m \u001b[32m━━━━━━━━━━━━━━━━━━━━\u001b[0m\u001b[37m\u001b[0m \u001b[1m0s\u001b[0m 20ms/step - loss: 3091.1289 - root_mean_squared_error: 55.5979 - val_loss: 3285.8770 - val_root_mean_squared_error: 57.3226\n",
      "Epoch 16/50\n",
      "\u001b[1m1/1\u001b[0m \u001b[32m━━━━━━━━━━━━━━━━━━━━\u001b[0m\u001b[37m\u001b[0m \u001b[1m0s\u001b[0m 19ms/step - loss: 2999.5518 - root_mean_squared_error: 54.7682 - val_loss: 3179.4878 - val_root_mean_squared_error: 56.3869\n",
      "Epoch 17/50\n",
      "\u001b[1m1/1\u001b[0m \u001b[32m━━━━━━━━━━━━━━━━━━━━\u001b[0m\u001b[37m\u001b[0m \u001b[1m0s\u001b[0m 19ms/step - loss: 2901.2561 - root_mean_squared_error: 53.8633 - val_loss: 3064.8633 - val_root_mean_squared_error: 55.3612\n",
      "Epoch 18/50\n",
      "\u001b[1m1/1\u001b[0m \u001b[32m━━━━━━━━━━━━━━━━━━━━\u001b[0m\u001b[37m\u001b[0m \u001b[1m0s\u001b[0m 19ms/step - loss: 2795.8989 - root_mean_squared_error: 52.8763 - val_loss: 2940.2031 - val_root_mean_squared_error: 54.2236\n",
      "Epoch 19/50\n",
      "\u001b[1m1/1\u001b[0m \u001b[32m━━━━━━━━━━━━━━━━━━━━\u001b[0m\u001b[37m\u001b[0m \u001b[1m0s\u001b[0m 20ms/step - loss: 2681.4937 - root_mean_squared_error: 51.7831 - val_loss: 2806.2192 - val_root_mean_squared_error: 52.9738\n",
      "Epoch 20/50\n",
      "\u001b[1m1/1\u001b[0m \u001b[32m━━━━━━━━━━━━━━━━━━━━\u001b[0m\u001b[37m\u001b[0m \u001b[1m0s\u001b[0m 18ms/step - loss: 2560.1035 - root_mean_squared_error: 50.5975 - val_loss: 2666.6240 - val_root_mean_squared_error: 51.6394\n",
      "Epoch 21/50\n",
      "\u001b[1m1/1\u001b[0m \u001b[32m━━━━━━━━━━━━━━━━━━━━\u001b[0m\u001b[37m\u001b[0m \u001b[1m0s\u001b[0m 19ms/step - loss: 2433.7358 - root_mean_squared_error: 49.3329 - val_loss: 2523.2136 - val_root_mean_squared_error: 50.2316\n",
      "Epoch 22/50\n",
      "\u001b[1m1/1\u001b[0m \u001b[32m━━━━━━━━━━━━━━━━━━━━\u001b[0m\u001b[37m\u001b[0m \u001b[1m0s\u001b[0m 17ms/step - loss: 2303.9883 - root_mean_squared_error: 47.9999 - val_loss: 2379.4929 - val_root_mean_squared_error: 48.7800\n",
      "Epoch 23/50\n",
      "\u001b[1m1/1\u001b[0m \u001b[32m━━━━━━━━━━━━━━━━━━━━\u001b[0m\u001b[37m\u001b[0m \u001b[1m0s\u001b[0m 27ms/step - loss: 2172.8682 - root_mean_squared_error: 46.6140 - val_loss: 2234.3730 - val_root_mean_squared_error: 47.2692\n",
      "Epoch 24/50\n",
      "\u001b[1m1/1\u001b[0m \u001b[32m━━━━━━━━━━━━━━━━━━━━\u001b[0m\u001b[37m\u001b[0m \u001b[1m0s\u001b[0m 20ms/step - loss: 2039.8589 - root_mean_squared_error: 45.1648 - val_loss: 2085.5652 - val_root_mean_squared_error: 45.6680\n",
      "Epoch 25/50\n",
      "\u001b[1m1/1\u001b[0m \u001b[32m━━━━━━━━━━━━━━━━━━━━\u001b[0m\u001b[37m\u001b[0m \u001b[1m0s\u001b[0m 17ms/step - loss: 1902.5565 - root_mean_squared_error: 43.6183 - val_loss: 1927.8657 - val_root_mean_squared_error: 43.9075\n",
      "Epoch 26/50\n",
      "\u001b[1m1/1\u001b[0m \u001b[32m━━━━━━━━━━━━━━━━━━━━\u001b[0m\u001b[37m\u001b[0m \u001b[1m0s\u001b[0m 20ms/step - loss: 1756.1527 - root_mean_squared_error: 41.9065 - val_loss: 1755.3474 - val_root_mean_squared_error: 41.8969\n",
      "Epoch 27/50\n",
      "\u001b[1m1/1\u001b[0m \u001b[32m━━━━━━━━━━━━━━━━━━━━\u001b[0m\u001b[37m\u001b[0m \u001b[1m0s\u001b[0m 18ms/step - loss: 1595.3540 - root_mean_squared_error: 39.9419 - val_loss: 1561.4028 - val_root_mean_squared_error: 39.5146\n",
      "Epoch 28/50\n",
      "\u001b[1m1/1\u001b[0m \u001b[32m━━━━━━━━━━━━━━━━━━━━\u001b[0m\u001b[37m\u001b[0m \u001b[1m0s\u001b[0m 31ms/step - loss: 1414.7166 - root_mean_squared_error: 37.6127 - val_loss: 1342.3088 - val_root_mean_squared_error: 36.6375\n",
      "Epoch 29/50\n",
      "\u001b[1m1/1\u001b[0m \u001b[32m━━━━━━━━━━━━━━━━━━━━\u001b[0m\u001b[37m\u001b[0m \u001b[1m0s\u001b[0m 19ms/step - loss: 1211.4570 - root_mean_squared_error: 34.8060 - val_loss: 1105.3833 - val_root_mean_squared_error: 33.2473\n",
      "Epoch 30/50\n",
      "\u001b[1m1/1\u001b[0m \u001b[32m━━━━━━━━━━━━━━━━━━━━\u001b[0m\u001b[37m\u001b[0m \u001b[1m0s\u001b[0m 18ms/step - loss: 992.9361 - root_mean_squared_error: 31.5109 - val_loss: 866.9584 - val_root_mean_squared_error: 29.4442\n",
      "Epoch 31/50\n",
      "\u001b[1m1/1\u001b[0m \u001b[32m━━━━━━━━━━━━━━━━━━━━\u001b[0m\u001b[37m\u001b[0m \u001b[1m0s\u001b[0m 19ms/step - loss: 773.1989 - root_mean_squared_error: 27.8065 - val_loss: 637.3396 - val_root_mean_squared_error: 25.2456\n",
      "Epoch 32/50\n",
      "\u001b[1m1/1\u001b[0m \u001b[32m━━━━━━━━━━━━━━━━━━━━\u001b[0m\u001b[37m\u001b[0m \u001b[1m0s\u001b[0m 21ms/step - loss: 559.5173 - root_mean_squared_error: 23.6541 - val_loss: 418.0999 - val_root_mean_squared_error: 20.4475\n",
      "Epoch 33/50\n",
      "\u001b[1m1/1\u001b[0m \u001b[32m━━━━━━━━━━━━━━━━━━━━\u001b[0m\u001b[37m\u001b[0m \u001b[1m0s\u001b[0m 19ms/step - loss: 352.3735 - root_mean_squared_error: 18.7716 - val_loss: 205.0063 - val_root_mean_squared_error: 14.3180\n",
      "Epoch 34/50\n",
      "\u001b[1m1/1\u001b[0m \u001b[32m━━━━━━━━━━━━━━━━━━━━\u001b[0m\u001b[37m\u001b[0m \u001b[1m0s\u001b[0m 19ms/step - loss: 151.0100 - root_mean_squared_error: 12.2886 - val_loss: 29.5551 - val_root_mean_squared_error: 5.4365\n",
      "Epoch 35/50\n",
      "\u001b[1m1/1\u001b[0m \u001b[32m━━━━━━━━━━━━━━━━━━━━\u001b[0m\u001b[37m\u001b[0m \u001b[1m0s\u001b[0m 19ms/step - loss: 11.7905 - root_mean_squared_error: 3.4337 - val_loss: 16.3375 - val_root_mean_squared_error: 4.0420\n",
      "Epoch 36/50\n",
      "\u001b[1m1/1\u001b[0m \u001b[32m━━━━━━━━━━━━━━━━━━━━\u001b[0m\u001b[37m\u001b[0m \u001b[1m0s\u001b[0m 18ms/step - loss: 21.6389 - root_mean_squared_error: 4.6518 - val_loss: 36.0584 - val_root_mean_squared_error: 6.0049\n",
      "Epoch 37/50\n",
      "\u001b[1m1/1\u001b[0m \u001b[32m━━━━━━━━━━━━━━━━━━━━\u001b[0m\u001b[37m\u001b[0m \u001b[1m0s\u001b[0m 19ms/step - loss: 39.6721 - root_mean_squared_error: 6.2986 - val_loss: 39.7732 - val_root_mean_squared_error: 6.3066\n",
      "Epoch 38/50\n",
      "\u001b[1m1/1\u001b[0m \u001b[32m━━━━━━━━━━━━━━━━━━━━\u001b[0m\u001b[37m\u001b[0m \u001b[1m0s\u001b[0m 17ms/step - loss: 40.8066 - root_mean_squared_error: 6.3880 - val_loss: 31.4799 - val_root_mean_squared_error: 5.6107\n",
      "Epoch 39/50\n",
      "\u001b[1m1/1\u001b[0m \u001b[32m━━━━━━━━━━━━━━━━━━━━\u001b[0m\u001b[37m\u001b[0m \u001b[1m0s\u001b[0m 20ms/step - loss: 32.8875 - root_mean_squared_error: 5.7348 - val_loss: 28.3851 - val_root_mean_squared_error: 5.3278\n",
      "Epoch 40/50\n",
      "\u001b[1m1/1\u001b[0m \u001b[32m━━━━━━━━━━━━━━━━━━━━\u001b[0m\u001b[37m\u001b[0m \u001b[1m0s\u001b[0m 20ms/step - loss: 29.0388 - root_mean_squared_error: 5.3888 - val_loss: 22.9304 - val_root_mean_squared_error: 4.7886\n",
      "Epoch 41/50\n",
      "\u001b[1m1/1\u001b[0m \u001b[32m━━━━━━━━━━━━━━━━━━━━\u001b[0m\u001b[37m\u001b[0m \u001b[1m0s\u001b[0m 18ms/step - loss: 23.3913 - root_mean_squared_error: 4.8365 - val_loss: 17.1013 - val_root_mean_squared_error: 4.1354\n",
      "Epoch 42/50\n",
      "\u001b[1m1/1\u001b[0m \u001b[32m━━━━━━━━━━━━━━━━━━━━\u001b[0m\u001b[37m\u001b[0m \u001b[1m0s\u001b[0m 18ms/step - loss: 17.3051 - root_mean_squared_error: 4.1599 - val_loss: 11.3640 - val_root_mean_squared_error: 3.3711\n",
      "Epoch 43/50\n",
      "\u001b[1m1/1\u001b[0m \u001b[32m━━━━━━━━━━━━━━━━━━━━\u001b[0m\u001b[37m\u001b[0m \u001b[1m0s\u001b[0m 18ms/step - loss: 11.4135 - root_mean_squared_error: 3.3784 - val_loss: 6.6051 - val_root_mean_squared_error: 2.5700\n",
      "Epoch 44/50\n",
      "\u001b[1m1/1\u001b[0m \u001b[32m━━━━━━━━━━━━━━━━━━━━\u001b[0m\u001b[37m\u001b[0m \u001b[1m0s\u001b[0m 19ms/step - loss: 6.5461 - root_mean_squared_error: 2.5585 - val_loss: 3.4555 - val_root_mean_squared_error: 1.8589\n",
      "Epoch 45/50\n",
      "\u001b[1m1/1\u001b[0m \u001b[32m━━━━━━━━━━━━━━━━━━━━\u001b[0m\u001b[37m\u001b[0m \u001b[1m0s\u001b[0m 19ms/step - loss: 3.2775 - root_mean_squared_error: 1.8104 - val_loss: 2.0211 - val_root_mean_squared_error: 1.4216\n",
      "Epoch 46/50\n",
      "\u001b[1m1/1\u001b[0m \u001b[32m━━━━━━━━━━━━━━━━━━━━\u001b[0m\u001b[37m\u001b[0m \u001b[1m0s\u001b[0m 18ms/step - loss: 1.7066 - root_mean_squared_error: 1.3064 - val_loss: 1.8936 - val_root_mean_squared_error: 1.3761\n",
      "Epoch 47/50\n",
      "\u001b[1m1/1\u001b[0m \u001b[32m━━━━━━━━━━━━━━━━━━━━\u001b[0m\u001b[37m\u001b[0m \u001b[1m0s\u001b[0m 19ms/step - loss: 1.4607 - root_mean_squared_error: 1.2086 - val_loss: 2.3442 - val_root_mean_squared_error: 1.5311\n",
      "Epoch 48/50\n",
      "\u001b[1m1/1\u001b[0m \u001b[32m━━━━━━━━━━━━━━━━━━━━\u001b[0m\u001b[37m\u001b[0m \u001b[1m0s\u001b[0m 19ms/step - loss: 1.8257 - root_mean_squared_error: 1.3512 - val_loss: 2.6583 - val_root_mean_squared_error: 1.6304\n",
      "Epoch 49/50\n",
      "\u001b[1m1/1\u001b[0m \u001b[32m━━━━━━━━━━━━━━━━━━━━\u001b[0m\u001b[37m\u001b[0m \u001b[1m0s\u001b[0m 18ms/step - loss: 2.0661 - root_mean_squared_error: 1.4374 - val_loss: 2.7899 - val_root_mean_squared_error: 1.6703\n",
      "Epoch 50/50\n",
      "\u001b[1m1/1\u001b[0m \u001b[32m━━━━━━━━━━━━━━━━━━━━\u001b[0m\u001b[37m\u001b[0m \u001b[1m0s\u001b[0m 19ms/step - loss: 2.1479 - root_mean_squared_error: 1.4656 - val_loss: 2.7797 - val_root_mean_squared_error: 1.6672\n"
     ]
    }
   ],
   "source": [
    "early_stop = EarlyStopping(monitor='val_root_mean_squared_error', min_delta = 0.0, patience=10, verbose=1, mode='min')\n",
    "\n",
    "history = model.fit(\n",
    "    X_train, \n",
    "    y_train, \n",
    "    epochs=epoch_num,\n",
    "    validation_data=(X_test, y_test), \n",
    "    callbacks=[early_stop]\n",
    ")\n",
    "\n",
    "end_time = time.time()"
   ]
  },
  {
   "cell_type": "code",
   "execution_count": 323,
   "id": "9d2ac879",
   "metadata": {},
   "outputs": [
    {
     "data": {
      "text/plain": [
       "<matplotlib.legend.Legend at 0x17e3a8490>"
      ]
     },
     "execution_count": 323,
     "metadata": {},
     "output_type": "execute_result"
    },
    {
     "data": {
      "image/png": "[encoded data removed]",
      "text/plain": [
       "<Figure size 1500x700 with 2 Axes>"
      ]
     },
     "metadata": {},
     "output_type": "display_data"
    }
   ],
   "source": [
    "fig, (ax1, ax2) = plt.subplots(1, 2, figsize=(15, 7))\n",
    "fig.suptitle('GRU Model Evaluation')\n",
    "\n",
    "ax1.set_title('loss')\n",
    "#ax1.set_ylim(0, 100)\n",
    "ax1.plot(history.history['loss'])\n",
    "ax1.plot(history.history['val_loss'])\n",
    "ax1.legend(['train', 'test'], loc='upper left')\n",
    "\n",
    "ax2.set_title('RMSE')\n",
    "#ax2.set_ylim(0, 1)\n",
    "ax2.plot(history.history['root_mean_squared_error'])\n",
    "ax2.plot(history.history['val_root_mean_squared_error'])\n",
    "ax2.legend(['train', 'test'], loc='upper left')"
   ]
  },
  {
   "cell_type": "markdown",
   "id": "8ee5dd7f",
   "metadata": {},
   "source": [
    "\n",
    "The provided GRU model demonstrates a progressive decrease in both training and validation loss over epochs, indicating effective learning from the training data. The training loss starts from a relatively high value and steadily decreases, reaching a minimum around epoch 40. Similarly, the validation loss also decreases throughout the epochs, even with ocacasional fluctuations. The root mean squared error (RMSE) follows a similar trend, gradually decreasing as the model learns. However, it's worth noting that the RMSE curve exhibits more variability compared to the loss curves, suggesting that the model's performance may fluctuate slightly during training. Overall, the decreasing loss and RMSE values suggest that the model is effectively capturing patterns in the data and generalizing well to unseen instances."
   ]
  },
  {
   "cell_type": "code",
   "execution_count": 263,
   "id": "b855b081",
   "metadata": {},
   "outputs": [
    {
     "name": "stdout",
     "output_type": "stream",
     "text": [
      "\u001b[1m1/1\u001b[0m \u001b[32m━━━━━━━━━━━━━━━━━━━━\u001b[0m\u001b[37m\u001b[0m \u001b[1m0s\u001b[0m 10ms/step\n"
     ]
    }
   ],
   "source": [
    "#Predict:\n",
    "y_pred = model.predict(X_test)"
   ]
  },
  {
   "cell_type": "code",
   "execution_count": 264,
   "id": "a11028fa",
   "metadata": {},
   "outputs": [
    {
     "data": {
      "text/plain": [
       "3.862845293463659"
      ]
     },
     "execution_count": 264,
     "metadata": {},
     "output_type": "execute_result"
    }
   ],
   "source": [
    "from sklearn.metrics import mean_squared_error\n",
    "\n",
    "mean_squared_error(y_test, y_pred)**0.5"
   ]
  },
  {
   "cell_type": "code",
   "execution_count": 265,
   "id": "97f18400",
   "metadata": {},
   "outputs": [],
   "source": [
    "prior_days = np.array(\n",
    "    [71.059998, 71.559998, 69.970001, 70.57, 69.260002, 68.419998, 67.93, 67.540001,\n",
    "     67.050003]\n",
    ")\n",
    "\n",
    "# reshape into the three dimensions for input into model\n",
    "prior_days = prior_days.reshape(1, 9, 1) # 1 row, 9 time steps (features), and 1 output/prediction)"
   ]
  },
  {
   "cell_type": "code",
   "execution_count": 266,
   "id": "f34c246c",
   "metadata": {},
   "outputs": [
    {
     "name": "stdout",
     "output_type": "stream",
     "text": [
      "\u001b[1m1/1\u001b[0m \u001b[32m━━━━━━━━━━━━━━━━━━━━\u001b[0m\u001b[37m\u001b[0m \u001b[1m0s\u001b[0m 10ms/step\n"
     ]
    },
    {
     "data": {
      "text/plain": [
       "array([[72.78231]], dtype=float32)"
      ]
     },
     "execution_count": 266,
     "metadata": {},
     "output_type": "execute_result"
    }
   ],
   "source": [
    "model.predict(prior_days) "
   ]
  },
  {
   "cell_type": "code",
   "execution_count": 267,
   "id": "78765a62",
   "metadata": {},
   "outputs": [
    {
     "name": "stdout",
     "output_type": "stream",
     "text": [
      "\u001b[1m1/1\u001b[0m \u001b[32m━━━━━━━━━━━━━━━━━━━━\u001b[0m\u001b[37m\u001b[0m \u001b[1m0s\u001b[0m 10ms/step\n"
     ]
    }
   ],
   "source": [
    "tomorrows_stock = model.predict(prior_days)[0][0]\n"
   ]
  },
  {
   "cell_type": "code",
   "execution_count": 268,
   "id": "a1c4bcf1",
   "metadata": {
    "scrolled": true
   },
   "outputs": [
    {
     "name": "stdout",
     "output_type": "stream",
     "text": [
      "10th day's predicted closing stock is 72.78\n"
     ]
    }
   ],
   "source": [
    "print(f\"10th day's predicted closing stock is {tomorrows_stock:.2f}\")"
   ]
  },
  {
   "cell_type": "markdown",
   "id": "227b3eb5",
   "metadata": {},
   "source": [
    "The model's predictions, represented by y_pred, yield a root mean squared error (RMSE) of approximately 3.86 when compared to the actual test data. This indicates a moderate level of prediction error. When provided with prior days' data for prediction, the model forecasts the next day's closing stock price to be approximately 72.78."
   ]
  },
  {
   "cell_type": "markdown",
   "id": "4167be38",
   "metadata": {},
   "source": [
    "## Conv1D"
   ]
  },
  {
   "cell_type": "code",
   "execution_count": 326,
   "id": "6b871b64",
   "metadata": {},
   "outputs": [
    {
     "name": "stderr",
     "output_type": "stream",
     "text": [
      "/Users/vamsimanuri/anaconda3/lib/python3.11/site-packages/keras/src/layers/convolutional/base_conv.py:99: UserWarning: Do not pass an `input_shape`/`input_dim` argument to a layer. When using Sequential models, prefer using an `Input(shape)` object as the first layer in the model instead.\n",
      "  super().__init__(\n"
     ]
    }
   ],
   "source": [
    "model = keras.models.Sequential([\n",
    "    keras.layers.Conv1D(filters=20, kernel_size=3, strides=1, padding=\"valid\", input_shape=[9, 1]),\n",
    "    keras.layers.GRU(32, activation='relu', return_sequences=True),\n",
    "    keras.layers.GRU(32, activation='relu', return_sequences=False),\n",
    "    keras.layers.Dense(1, activation=None)\n",
    "])"
   ]
  },
  {
   "cell_type": "code",
   "execution_count": 327,
   "id": "f23d6af2",
   "metadata": {},
   "outputs": [],
   "source": [
    "model.compile(\n",
    "    loss=\"mean_squared_error\", \n",
    "    optimizer=tf.keras.optimizers.Nadam(learning_rate=0.001), \n",
    "    metrics=[tf.keras.metrics.RootMeanSquaredError()]\n",
    ")"
   ]
  },
  {
   "cell_type": "code",
   "execution_count": 328,
   "id": "a4b1281d",
   "metadata": {},
   "outputs": [
    {
     "name": "stdout",
     "output_type": "stream",
     "text": [
      "Epoch 1/50\n",
      "\u001b[1m1/1\u001b[0m \u001b[32m━━━━━━━━━━━━━━━━━━━━\u001b[0m\u001b[37m\u001b[0m \u001b[1m1s\u001b[0m 1s/step - loss: 4879.7070 - root_mean_squared_error: 69.8549 - val_loss: 5149.5039 - val_root_mean_squared_error: 71.7600\n",
      "Epoch 2/50\n",
      "\u001b[1m1/1\u001b[0m \u001b[32m━━━━━━━━━━━━━━━━━━━━\u001b[0m\u001b[37m\u001b[0m \u001b[1m0s\u001b[0m 16ms/step - loss: 4705.8623 - root_mean_squared_error: 68.5993 - val_loss: 4995.8169 - val_root_mean_squared_error: 70.6811\n",
      "Epoch 3/50\n",
      "\u001b[1m1/1\u001b[0m \u001b[32m━━━━━━━━━━━━━━━━━━━━\u001b[0m\u001b[37m\u001b[0m \u001b[1m0s\u001b[0m 19ms/step - loss: 4566.3486 - root_mean_squared_error: 67.5748 - val_loss: 4869.0522 - val_root_mean_squared_error: 69.7786\n",
      "Epoch 4/50\n",
      "\u001b[1m1/1\u001b[0m \u001b[32m━━━━━━━━━━━━━━━━━━━━\u001b[0m\u001b[37m\u001b[0m \u001b[1m0s\u001b[0m 22ms/step - loss: 4452.8740 - root_mean_squared_error: 66.7299 - val_loss: 4717.6201 - val_root_mean_squared_error: 68.6849\n",
      "Epoch 5/50\n",
      "\u001b[1m1/1\u001b[0m \u001b[32m━━━━━━━━━━━━━━━━━━━━\u001b[0m\u001b[37m\u001b[0m \u001b[1m0s\u001b[0m 20ms/step - loss: 4316.1260 - root_mean_squared_error: 65.6972 - val_loss: 4621.9849 - val_root_mean_squared_error: 67.9852\n",
      "Epoch 6/50\n",
      "\u001b[1m1/1\u001b[0m \u001b[32m━━━━━━━━━━━━━━━━━━━━\u001b[0m\u001b[37m\u001b[0m \u001b[1m0s\u001b[0m 19ms/step - loss: 4227.2876 - root_mean_squared_error: 65.0176 - val_loss: 4528.6436 - val_root_mean_squared_error: 67.2952\n",
      "Epoch 7/50\n",
      "\u001b[1m1/1\u001b[0m \u001b[32m━━━━━━━━━━━━━━━━━━━━\u001b[0m\u001b[37m\u001b[0m \u001b[1m0s\u001b[0m 19ms/step - loss: 4144.6367 - root_mean_squared_error: 64.3789 - val_loss: 4469.7344 - val_root_mean_squared_error: 66.8561\n",
      "Epoch 8/50\n",
      "\u001b[1m1/1\u001b[0m \u001b[32m━━━━━━━━━━━━━━━━━━━━\u001b[0m\u001b[37m\u001b[0m \u001b[1m0s\u001b[0m 21ms/step - loss: 4080.3616 - root_mean_squared_error: 63.8777 - val_loss: 4408.5703 - val_root_mean_squared_error: 66.3971\n",
      "Epoch 9/50\n",
      "\u001b[1m1/1\u001b[0m \u001b[32m━━━━━━━━━━━━━━━━━━━━\u001b[0m\u001b[37m\u001b[0m \u001b[1m0s\u001b[0m 19ms/step - loss: 4036.2246 - root_mean_squared_error: 63.5313 - val_loss: 4285.1562 - val_root_mean_squared_error: 65.4611\n",
      "Epoch 10/50\n",
      "\u001b[1m1/1\u001b[0m \u001b[32m━━━━━━━━━━━━━━━━━━━━\u001b[0m\u001b[37m\u001b[0m \u001b[1m0s\u001b[0m 20ms/step - loss: 3913.7786 - root_mean_squared_error: 62.5602 - val_loss: 4168.2422 - val_root_mean_squared_error: 64.5619\n",
      "Epoch 11/50\n",
      "\u001b[1m1/1\u001b[0m \u001b[32m━━━━━━━━━━━━━━━━━━━━\u001b[0m\u001b[37m\u001b[0m \u001b[1m0s\u001b[0m 19ms/step - loss: 3815.0674 - root_mean_squared_error: 61.7662 - val_loss: 4068.5728 - val_root_mean_squared_error: 63.7854\n",
      "Epoch 12/50\n",
      "\u001b[1m1/1\u001b[0m \u001b[32m━━━━━━━━━━━━━━━━━━━━\u001b[0m\u001b[37m\u001b[0m \u001b[1m0s\u001b[0m 21ms/step - loss: 3719.8157 - root_mean_squared_error: 60.9903 - val_loss: 3952.5254 - val_root_mean_squared_error: 62.8691\n",
      "Epoch 13/50\n",
      "\u001b[1m1/1\u001b[0m \u001b[32m━━━━━━━━━━━━━━━━━━━━\u001b[0m\u001b[37m\u001b[0m \u001b[1m0s\u001b[0m 21ms/step - loss: 3615.7500 - root_mean_squared_error: 60.1311 - val_loss: 3827.0552 - val_root_mean_squared_error: 61.8632\n",
      "Epoch 14/50\n",
      "\u001b[1m1/1\u001b[0m \u001b[32m━━━━━━━━━━━━━━━━━━━━\u001b[0m\u001b[37m\u001b[0m \u001b[1m0s\u001b[0m 20ms/step - loss: 3498.6697 - root_mean_squared_error: 59.1496 - val_loss: 3678.3184 - val_root_mean_squared_error: 60.6491\n",
      "Epoch 15/50\n",
      "\u001b[1m1/1\u001b[0m \u001b[32m━━━━━━━━━━━━━━━━━━━━\u001b[0m\u001b[37m\u001b[0m \u001b[1m0s\u001b[0m 19ms/step - loss: 3364.8279 - root_mean_squared_error: 58.0071 - val_loss: 3521.3564 - val_root_mean_squared_error: 59.3410\n",
      "Epoch 16/50\n",
      "\u001b[1m1/1\u001b[0m \u001b[32m━━━━━━━━━━━━━━━━━━━━\u001b[0m\u001b[37m\u001b[0m \u001b[1m0s\u001b[0m 20ms/step - loss: 3218.6597 - root_mean_squared_error: 56.7332 - val_loss: 3334.8306 - val_root_mean_squared_error: 57.7480\n",
      "Epoch 17/50\n",
      "\u001b[1m1/1\u001b[0m \u001b[32m━━━━━━━━━━━━━━━━━━━━\u001b[0m\u001b[37m\u001b[0m \u001b[1m0s\u001b[0m 19ms/step - loss: 3049.2693 - root_mean_squared_error: 55.2202 - val_loss: 3113.8188 - val_root_mean_squared_error: 55.8016\n",
      "Epoch 18/50\n",
      "\u001b[1m1/1\u001b[0m \u001b[32m━━━━━━━━━━━━━━━━━━━━\u001b[0m\u001b[37m\u001b[0m \u001b[1m0s\u001b[0m 19ms/step - loss: 2844.1028 - root_mean_squared_error: 53.3301 - val_loss: 2822.9487 - val_root_mean_squared_error: 53.1314\n",
      "Epoch 19/50\n",
      "\u001b[1m1/1\u001b[0m \u001b[32m━━━━━━━━━━━━━━━━━━━━\u001b[0m\u001b[37m\u001b[0m \u001b[1m0s\u001b[0m 21ms/step - loss: 2578.1431 - root_mean_squared_error: 50.7754 - val_loss: 2496.4934 - val_root_mean_squared_error: 49.9649\n",
      "Epoch 20/50\n",
      "\u001b[1m1/1\u001b[0m \u001b[32m━━━━━━━━━━━━━━━━━━━━\u001b[0m\u001b[37m\u001b[0m \u001b[1m0s\u001b[0m 19ms/step - loss: 2287.9482 - root_mean_squared_error: 47.8325 - val_loss: 2232.1729 - val_root_mean_squared_error: 47.2459\n",
      "Epoch 21/50\n",
      "\u001b[1m1/1\u001b[0m \u001b[32m━━━━━━━━━━━━━━━━━━━━\u001b[0m\u001b[37m\u001b[0m \u001b[1m0s\u001b[0m 20ms/step - loss: 2044.4482 - root_mean_squared_error: 45.2156 - val_loss: 1934.1323 - val_root_mean_squared_error: 43.9788\n",
      "Epoch 22/50\n",
      "\u001b[1m1/1\u001b[0m \u001b[32m━━━━━━━━━━━━━━━━━━━━\u001b[0m\u001b[37m\u001b[0m \u001b[1m0s\u001b[0m 20ms/step - loss: 1772.4307 - root_mean_squared_error: 42.1002 - val_loss: 1598.6898 - val_root_mean_squared_error: 39.9836\n",
      "Epoch 23/50\n",
      "\u001b[1m1/1\u001b[0m \u001b[32m━━━━━━━━━━━━━━━━━━━━\u001b[0m\u001b[37m\u001b[0m \u001b[1m0s\u001b[0m 20ms/step - loss: 1469.5027 - root_mean_squared_error: 38.3341 - val_loss: 1295.3120 - val_root_mean_squared_error: 35.9904\n",
      "Epoch 24/50\n",
      "\u001b[1m1/1\u001b[0m \u001b[32m━━━━━━━━━━━━━━━━━━━━\u001b[0m\u001b[37m\u001b[0m \u001b[1m0s\u001b[0m 19ms/step - loss: 1188.8121 - root_mean_squared_error: 34.4792 - val_loss: 1047.1694 - val_root_mean_squared_error: 32.3600\n",
      "Epoch 25/50\n",
      "\u001b[1m1/1\u001b[0m \u001b[32m━━━━━━━━━━━━━━━━━━━━\u001b[0m\u001b[37m\u001b[0m \u001b[1m0s\u001b[0m 19ms/step - loss: 958.9166 - root_mean_squared_error: 30.9664 - val_loss: 820.5706 - val_root_mean_squared_error: 28.6456\n",
      "Epoch 26/50\n",
      "\u001b[1m1/1\u001b[0m \u001b[32m━━━━━━━━━━━━━━━━━━━━\u001b[0m\u001b[37m\u001b[0m \u001b[1m0s\u001b[0m 17ms/step - loss: 747.7168 - root_mean_squared_error: 27.3444 - val_loss: 579.8617 - val_root_mean_squared_error: 24.0803\n",
      "Epoch 27/50\n",
      "\u001b[1m1/1\u001b[0m \u001b[32m━━━━━━━━━━━━━━━━━━━━\u001b[0m\u001b[37m\u001b[0m \u001b[1m0s\u001b[0m 18ms/step - loss: 522.1243 - root_mean_squared_error: 22.8500 - val_loss: 280.1664 - val_root_mean_squared_error: 16.7382\n",
      "Epoch 28/50\n",
      "\u001b[1m1/1\u001b[0m \u001b[32m━━━━━━━━━━━━━━━━━━━━\u001b[0m\u001b[37m\u001b[0m \u001b[1m0s\u001b[0m 18ms/step - loss: 254.7294 - root_mean_squared_error: 15.9602 - val_loss: 146.7599 - val_root_mean_squared_error: 12.1144\n",
      "Epoch 29/50\n",
      "\u001b[1m1/1\u001b[0m \u001b[32m━━━━━━━━━━━━━━━━━━━━\u001b[0m\u001b[37m\u001b[0m \u001b[1m0s\u001b[0m 18ms/step - loss: 132.7488 - root_mean_squared_error: 11.5217 - val_loss: 61.0806 - val_root_mean_squared_error: 7.8154\n",
      "Epoch 30/50\n",
      "\u001b[1m1/1\u001b[0m \u001b[32m━━━━━━━━━━━━━━━━━━━━\u001b[0m\u001b[37m\u001b[0m \u001b[1m0s\u001b[0m 17ms/step - loss: 54.4508 - root_mean_squared_error: 7.3791 - val_loss: 15.5192 - val_root_mean_squared_error: 3.9394\n",
      "Epoch 31/50\n",
      "\u001b[1m1/1\u001b[0m \u001b[32m━━━━━━━━━━━━━━━━━━━━\u001b[0m\u001b[37m\u001b[0m \u001b[1m0s\u001b[0m 18ms/step - loss: 13.0550 - root_mean_squared_error: 3.6132 - val_loss: 4.3027 - val_root_mean_squared_error: 2.0743\n",
      "Epoch 32/50\n",
      "\u001b[1m1/1\u001b[0m \u001b[32m━━━━━━━━━━━━━━━━━━━━\u001b[0m\u001b[37m\u001b[0m \u001b[1m0s\u001b[0m 18ms/step - loss: 3.2211 - root_mean_squared_error: 1.7948 - val_loss: 16.0483 - val_root_mean_squared_error: 4.0060\n",
      "Epoch 33/50\n",
      "\u001b[1m1/1\u001b[0m \u001b[32m━━━━━━━━━━━━━━━━━━━━\u001b[0m\u001b[37m\u001b[0m \u001b[1m0s\u001b[0m 21ms/step - loss: 14.4619 - root_mean_squared_error: 3.8029 - val_loss: 36.3768 - val_root_mean_squared_error: 6.0313\n",
      "Epoch 34/50\n",
      "\u001b[1m1/1\u001b[0m \u001b[32m━━━━━━━━━━━━━━━━━━━━\u001b[0m\u001b[37m\u001b[0m \u001b[1m0s\u001b[0m 20ms/step - loss: 33.3908 - root_mean_squared_error: 5.7785 - val_loss: 52.6219 - val_root_mean_squared_error: 7.2541\n",
      "Epoch 35/50\n",
      "\u001b[1m1/1\u001b[0m \u001b[32m━━━━━━━━━━━━━━━━━━━━\u001b[0m\u001b[37m\u001b[0m \u001b[1m0s\u001b[0m 18ms/step - loss: 47.7427 - root_mean_squared_error: 6.9096 - val_loss: 44.2069 - val_root_mean_squared_error: 6.6488\n",
      "Epoch 36/50\n",
      "\u001b[1m1/1\u001b[0m \u001b[32m━━━━━━━━━━━━━━━━━━━━\u001b[0m\u001b[37m\u001b[0m \u001b[1m0s\u001b[0m 18ms/step - loss: 40.1900 - root_mean_squared_error: 6.3396 - val_loss: 28.7984 - val_root_mean_squared_error: 5.3664\n",
      "Epoch 37/50\n",
      "\u001b[1m1/1\u001b[0m \u001b[32m━━━━━━━━━━━━━━━━━━━━\u001b[0m\u001b[37m\u001b[0m \u001b[1m0s\u001b[0m 18ms/step - loss: 26.6992 - root_mean_squared_error: 5.1671 - val_loss: 21.0316 - val_root_mean_squared_error: 4.5860\n",
      "Epoch 38/50\n",
      "\u001b[1m1/1\u001b[0m \u001b[32m━━━━━━━━━━━━━━━━━━━━\u001b[0m\u001b[37m\u001b[0m \u001b[1m0s\u001b[0m 21ms/step - loss: 19.6707 - root_mean_squared_error: 4.4352 - val_loss: 12.0161 - val_root_mean_squared_error: 3.4664\n",
      "Epoch 39/50\n",
      "\u001b[1m1/1\u001b[0m \u001b[32m━━━━━━━━━━━━━━━━━━━━\u001b[0m\u001b[37m\u001b[0m \u001b[1m0s\u001b[0m 18ms/step - loss: 11.5527 - root_mean_squared_error: 3.3989 - val_loss: 5.7691 - val_root_mean_squared_error: 2.4019\n",
      "Epoch 40/50\n",
      "\u001b[1m1/1\u001b[0m \u001b[32m━━━━━━━━━━━━━━━━━━━━\u001b[0m\u001b[37m\u001b[0m \u001b[1m0s\u001b[0m 18ms/step - loss: 5.6036 - root_mean_squared_error: 2.3672 - val_loss: 3.7693 - val_root_mean_squared_error: 1.9415\n",
      "Epoch 41/50\n",
      "\u001b[1m1/1\u001b[0m \u001b[32m━━━━━━━━━━━━━━━━━━━━\u001b[0m\u001b[37m\u001b[0m \u001b[1m0s\u001b[0m 19ms/step - loss: 3.4171 - root_mean_squared_error: 1.8486 - val_loss: 3.2172 - val_root_mean_squared_error: 1.7937\n",
      "Epoch 42/50\n",
      "\u001b[1m1/1\u001b[0m \u001b[32m━━━━━━━━━━━━━━━━━━━━\u001b[0m\u001b[37m\u001b[0m \u001b[1m0s\u001b[0m 18ms/step - loss: 2.7060 - root_mean_squared_error: 1.6450 - val_loss: 3.0680 - val_root_mean_squared_error: 1.7516\n",
      "Epoch 43/50\n",
      "\u001b[1m1/1\u001b[0m \u001b[32m━━━━━━━━━━━━━━━━━━━━\u001b[0m\u001b[37m\u001b[0m \u001b[1m0s\u001b[0m 17ms/step - loss: 2.4713 - root_mean_squared_error: 1.5720 - val_loss: 3.0280 - val_root_mean_squared_error: 1.7401\n",
      "Epoch 44/50\n",
      "\u001b[1m1/1\u001b[0m \u001b[32m━━━━━━━━━━━━━━━━━━━━\u001b[0m\u001b[37m\u001b[0m \u001b[1m0s\u001b[0m 18ms/step - loss: 2.3944 - root_mean_squared_error: 1.5474 - val_loss: 3.0093 - val_root_mean_squared_error: 1.7347\n",
      "Epoch 45/50\n",
      "\u001b[1m1/1\u001b[0m \u001b[32m━━━━━━━━━━━━━━━━━━━━\u001b[0m\u001b[37m\u001b[0m \u001b[1m0s\u001b[0m 19ms/step - loss: 2.3567 - root_mean_squared_error: 1.5352 - val_loss: 2.9965 - val_root_mean_squared_error: 1.7310\n",
      "Epoch 46/50\n",
      "\u001b[1m1/1\u001b[0m \u001b[32m━━━━━━━━━━━━━━━━━━━━\u001b[0m\u001b[37m\u001b[0m \u001b[1m0s\u001b[0m 20ms/step - loss: 2.3312 - root_mean_squared_error: 1.5268 - val_loss: 2.9864 - val_root_mean_squared_error: 1.7281\n",
      "Epoch 47/50\n",
      "\u001b[1m1/1\u001b[0m \u001b[32m━━━━━━━━━━━━━━━━━━━━\u001b[0m\u001b[37m\u001b[0m \u001b[1m0s\u001b[0m 19ms/step - loss: 2.3097 - root_mean_squared_error: 1.5198 - val_loss: 2.9809 - val_root_mean_squared_error: 1.7265\n",
      "Epoch 48/50\n",
      "\u001b[1m1/1\u001b[0m \u001b[32m━━━━━━━━━━━━━━━━━━━━\u001b[0m\u001b[37m\u001b[0m \u001b[1m0s\u001b[0m 19ms/step - loss: 2.2915 - root_mean_squared_error: 1.5138 - val_loss: 2.9819 - val_root_mean_squared_error: 1.7268\n",
      "Epoch 49/50\n",
      "\u001b[1m1/1\u001b[0m \u001b[32m━━━━━━━━━━━━━━━━━━━━\u001b[0m\u001b[37m\u001b[0m \u001b[1m0s\u001b[0m 19ms/step - loss: 2.2786 - root_mean_squared_error: 1.5095 - val_loss: 2.9911 - val_root_mean_squared_error: 1.7295\n",
      "Epoch 50/50\n",
      "\u001b[1m1/1\u001b[0m \u001b[32m━━━━━━━━━━━━━━━━━━━━\u001b[0m\u001b[37m\u001b[0m \u001b[1m0s\u001b[0m 19ms/step - loss: 2.2732 - root_mean_squared_error: 1.5077 - val_loss: 3.0072 - val_root_mean_squared_error: 1.7341\n"
     ]
    }
   ],
   "source": [
    "\n",
    "\n",
    "early_stop = EarlyStopping(monitor='val_root_mean_squared_error', min_delta = 0.0, patience=10, verbose=1, mode='min')\n",
    "\n",
    "history = model.fit(\n",
    "    X_train, \n",
    "    y_train, \n",
    "    epochs=epoch_num,\n",
    "    validation_data=(X_test, y_test), \n",
    "    callbacks=[early_stop]\n",
    ")\n",
    "\n",
    "end_time = time.time()"
   ]
  },
  {
   "cell_type": "code",
   "execution_count": 329,
   "id": "4ece2d50",
   "metadata": {},
   "outputs": [
    {
     "data": {
      "text/plain": [
       "<matplotlib.legend.Legend at 0x1794a63d0>"
      ]
     },
     "execution_count": 329,
     "metadata": {},
     "output_type": "execute_result"
    },
    {
     "data": {
      "image/png": "[encoded data removed]",
      "text/plain": [
       "<Figure size 1500x700 with 2 Axes>"
      ]
     },
     "metadata": {},
     "output_type": "display_data"
    }
   ],
   "source": [
    "fig, (ax1, ax2) = plt.subplots(1, 2, figsize=(15, 7))\n",
    "fig.suptitle('Conv1D Model Evaluation')\n",
    "\n",
    "ax1.set_title('loss')\n",
    "#ax1.set_ylim(0, 100)\n",
    "ax1.plot(history.history['loss'])\n",
    "ax1.plot(history.history['val_loss'])\n",
    "ax1.legend(['train', 'test'], loc='upper left')\n",
    "\n",
    "ax2.set_title('RMSE')\n",
    "#ax2.set_ylim(0, 1)\n",
    "ax2.plot(history.history['root_mean_squared_error'])\n",
    "ax2.plot(history.history['val_root_mean_squared_error'])\n",
    "ax2.legend(['train', 'test'], loc='upper left')"
   ]
  },
  {
   "cell_type": "markdown",
   "id": "3a051517",
   "metadata": {},
   "source": [
    "The Conv1D model exhibits a similar trend to previous models, with a progressive decrease in both training and validation loss over epochs. The training loss starts from a relatively high value and steadily decreases, reaching a minimum around epoch 40. Likewise, the validation loss also decreases throughout the epochs, with occasional fluctuations. The root mean squared error (RMSE) decreases steadily as well, indicating that the model's performance improves over time. "
   ]
  },
  {
   "cell_type": "code",
   "execution_count": 274,
   "id": "97f2f639",
   "metadata": {},
   "outputs": [
    {
     "name": "stdout",
     "output_type": "stream",
     "text": [
      "\u001b[1m1/1\u001b[0m \u001b[32m━━━━━━━━━━━━━━━━━━━━\u001b[0m\u001b[37m\u001b[0m \u001b[1m0s\u001b[0m 13ms/step\n"
     ]
    },
    {
     "data": {
      "text/plain": [
       "array([[70.15058 ],\n",
       "       [66.57378 ],\n",
       "       [73.02816 ],\n",
       "       [65.31622 ],\n",
       "       [77.418335],\n",
       "       [69.19485 ],\n",
       "       [76.02282 ],\n",
       "       [76.99334 ]], dtype=float32)"
      ]
     },
     "execution_count": 274,
     "metadata": {},
     "output_type": "execute_result"
    }
   ],
   "source": [
    "#Predict:\n",
    "y_pred = model.predict(X_test)\n",
    "y_pred"
   ]
  },
  {
   "cell_type": "code",
   "execution_count": 275,
   "id": "08792955",
   "metadata": {},
   "outputs": [
    {
     "data": {
      "text/plain": [
       "0.9908640293709678"
      ]
     },
     "execution_count": 275,
     "metadata": {},
     "output_type": "execute_result"
    }
   ],
   "source": [
    "mean_squared_error(y_test, y_pred)**0.5"
   ]
  },
  {
   "cell_type": "code",
   "execution_count": 276,
   "id": "6422c1db",
   "metadata": {},
   "outputs": [],
   "source": [
    "prior_days = np.array(\n",
    "    [71.059998, 71.559998, 69.970001, 70.57, 69.260002, 68.419998, 67.93, 67.540001,\n",
    "     67.050003]\n",
    ")\n",
    "\n",
    "# reshape into the three dimensions for input into model\n",
    "prior_days = prior_days.reshape(1, 9, 1) # 1 row, 9 time steps (features), and 1 output/prediction)"
   ]
  },
  {
   "cell_type": "code",
   "execution_count": 277,
   "id": "4e588679",
   "metadata": {},
   "outputs": [
    {
     "name": "stdout",
     "output_type": "stream",
     "text": [
      "\u001b[1m1/1\u001b[0m \u001b[32m━━━━━━━━━━━━━━━━━━━━\u001b[0m\u001b[37m\u001b[0m \u001b[1m0s\u001b[0m 116ms/step\n"
     ]
    },
    {
     "data": {
      "text/plain": [
       "array([[67.88588]], dtype=float32)"
      ]
     },
     "execution_count": 277,
     "metadata": {},
     "output_type": "execute_result"
    }
   ],
   "source": [
    "model.predict(prior_days)"
   ]
  },
  {
   "cell_type": "code",
   "execution_count": 278,
   "id": "c62dcddc",
   "metadata": {},
   "outputs": [
    {
     "name": "stdout",
     "output_type": "stream",
     "text": [
      "\u001b[1m1/1\u001b[0m \u001b[32m━━━━━━━━━━━━━━━━━━━━\u001b[0m\u001b[37m\u001b[0m \u001b[1m0s\u001b[0m 9ms/step\n"
     ]
    }
   ],
   "source": [
    "tomorrows_stock = model.predict(prior_days)[0][0]"
   ]
  },
  {
   "cell_type": "code",
   "execution_count": 279,
   "id": "6805a64c",
   "metadata": {},
   "outputs": [
    {
     "name": "stdout",
     "output_type": "stream",
     "text": [
      "10th day's predicted closing stock is 67.89\n"
     ]
    }
   ],
   "source": [
    "print(f\"10th day's predicted closing stock is {tomorrows_stock:.2f}\")"
   ]
  },
  {
   "cell_type": "markdown",
   "id": "5d8d4a0a",
   "metadata": {},
   "source": [
    "The model's predictions, represented by y_pred, indicate a strong alignment with the actual test data, as reflected by the low root mean squared error (RMSE) of approximately 0.99. These predictions span a reasonable range and exhibit consistency with the underlying patterns in the data. Additionally, when provided with prior days' data for prediction, the model forecasts the next day's closing stock price to be approximately 67.89. This prediction is in line with the historical data and reflects the model's ability to capture temporal patterns effectively. Overall, the low error value suggests that the model has learned well from the training data and generalizes effectively to unseen instances. "
   ]
  },
  {
   "cell_type": "markdown",
   "id": "05d8348d",
   "metadata": {},
   "source": [
    "## Conclusion"
   ]
  },
  {
   "cell_type": "markdown",
   "id": "3fa2c850",
   "metadata": {},
   "source": [
    "The SimpleRNN model exhibits a moderate prediction error with a root mean squared error (RMSE) of approximately 8.18, indicating some deviation from actual values. However, the model's ability to estimate future stock prices based on prior days' data is reasonable, as evidenced by the 10th day's predicted closing stock price aligning closely with actual values. \n",
    "\n",
    "Similarly, the LSTM model demonstrates a slightly lower RMSE of approximately 1.90, indicating improved predictive accuracy and a better ability to capture underlying trends in the data.\n",
    "\n",
    "GRU model displays a consistent decrease in both training and validation loss over epochs, indicating effective learning and generalization. The decreasing trend in root mean squared error further suggests that the model is capturing patterns in the data well, with occasional fluctuations possibly reflecting inherent variability in stock price movements.\n",
    "\n",
    "Combining Conv1D with GRU, the model showcases strong alignment between predictions and actual test data, characterized by a notably low RMSE of approximately 0.99. Moreover, its ability to forecast the next day's closing stock price accurately based on prior days' data reinforces its effectiveness in capturing temporal dynamics.\n",
    "\n",
    "While each model exhibits strengths in capturing temporal patterns and predicting stock prices, the Conv1D with GRU model stands out with its superior predictive accuracy, closely followed by the LSTM model."
   ]
  },
  {
   "cell_type": "code",
   "execution_count": null,
   "id": "38b9da8f",
   "metadata": {},
   "outputs": [],
   "source": []
  }
 ],
 "metadata": {
  "kernelspec": {
   "display_name": "Python 3 (ipykernel)",
   "language": "python",
   "name": "python3"
  },
  "language_info": {
   "codemirror_mode": {
    "name": "ipython",
    "version": 3
   },
   "file_extension": ".py",
   "mimetype": "text/x-python",
   "name": "python",
   "nbconvert_exporter": "python",
   "pygments_lexer": "ipython3",
   "version": "3.11.4"
  }
 },
 "nbformat": 4,
 "nbformat_minor": 5
}
